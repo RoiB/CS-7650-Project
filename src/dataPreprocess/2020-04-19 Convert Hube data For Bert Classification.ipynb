{
 "cells": [
  {
   "cell_type": "code",
   "execution_count": 4,
   "metadata": {},
   "outputs": [],
   "source": [
    "import pandas as pd\n",
    "import random\n",
    "import matplotlib.pyplot as plt"
   ]
  },
  {
   "cell_type": "code",
   "execution_count": 5,
   "metadata": {},
   "outputs": [],
   "source": [
    "path_example = '../Bert-Multi-Label-Text-Classification/pybert/dataset/train_sample.csv'"
   ]
  },
  {
   "cell_type": "code",
   "execution_count": 6,
   "metadata": {},
   "outputs": [],
   "source": [
    "# pd.read_csv(path_example)"
   ]
  },
  {
   "cell_type": "code",
   "execution_count": 7,
   "metadata": {},
   "outputs": [],
   "source": [
    "# convert hube data\n",
    "bias_file_path = '../cs7650_project_data/statements_biased'\n",
    "neutral_file_path = '../cs7650_project_data/statements_neutral_featured'"
   ]
  },
  {
   "cell_type": "code",
   "execution_count": 8,
   "metadata": {},
   "outputs": [
    {
     "name": "stdout",
     "output_type": "stream",
     "text": [
      "biased count: 1843\n"
     ]
    }
   ],
   "source": [
    "statements_biased = []\n",
    "with open(bias_file_path) as f:\n",
    "    for line in f:\n",
    "        statements_biased.append(line.rstrip())\n",
    "print('biased count:', len(statements_biased))"
   ]
  },
  {
   "cell_type": "code",
   "execution_count": 9,
   "metadata": {},
   "outputs": [
    {
     "name": "stdout",
     "output_type": "stream",
     "text": [
      "neutral_count 5000\n"
     ]
    }
   ],
   "source": [
    "statements_neutral = []\n",
    "with open(neutral_file_path) as f:\n",
    "    for line in f:\n",
    "        statements_neutral.append(line.rstrip())\n",
    "print('neutral_count',len(statements_neutral))"
   ]
  },
  {
   "cell_type": "markdown",
   "metadata": {},
   "source": [
    "## sample neutral sentences to have same count as biased statements"
   ]
  },
  {
   "cell_type": "code",
   "execution_count": 10,
   "metadata": {},
   "outputs": [],
   "source": [
    "n_choice = len(statements_biased)\n",
    "statements_neutral_short = random.sample(statements_neutral,k=n_choice)"
   ]
  },
  {
   "cell_type": "code",
   "execution_count": 11,
   "metadata": {},
   "outputs": [
    {
     "data": {
      "text/plain": [
       "(array([ 295.,  989., 1109.,  629.,  372.,  154.,   72.,   40.,   21.,\n",
       "           5.]),\n",
       " array([ 3. , 11.5, 20. , 28.5, 37. , 45.5, 54. , 62.5, 71. , 79.5, 88. ]),\n",
       " <a list of 10 Patch objects>)"
      ]
     },
     "execution_count": 11,
     "metadata": {},
     "output_type": "execute_result"
    },
    {
     "data": {
      "image/png": "[encoded data removed]",
      "text/plain": [
       "<Figure size 432x288 with 1 Axes>"
      ]
     },
     "metadata": {
      "needs_background": "light"
     },
     "output_type": "display_data"
    }
   ],
   "source": [
    "tmp = statements_neutral_short[:]\n",
    "tmp.extend(statements_biased)\n",
    "plt.hist(list(map(lambda x: len(x.split()),tmp)))"
   ]
  },
  {
   "cell_type": "markdown",
   "metadata": {},
   "source": [
    "Randomly mix biased and neutral statement together with 0 as neutral and 1 as biased"
   ]
  },
  {
   "cell_type": "code",
   "execution_count": 12,
   "metadata": {},
   "outputs": [],
   "source": [
    "data_pairs = list(zip(statements_biased,[1]*n_choice))\n",
    "data_pairs.extend(list(zip(statements_neutral_short, [0]*n_choice)))\n",
    "random.shuffle(data_pairs)"
   ]
  },
  {
   "cell_type": "markdown",
   "metadata": {},
   "source": [
    "## make csv file"
   ]
  },
  {
   "cell_type": "code",
   "execution_count": 13,
   "metadata": {},
   "outputs": [
    {
     "name": "stdout",
     "output_type": "stream",
     "text": [
      "split: 3317\n"
     ]
    }
   ],
   "source": [
    "# split train test pairs\n",
    "n_train = 2*n_choice\n",
    "split = int(.9*n_train)\n",
    "print('split:',split)"
   ]
  },
  {
   "cell_type": "code",
   "execution_count": 14,
   "metadata": {},
   "outputs": [],
   "source": [
    "df = pd.DataFrame(columns=[\"id\",\"text\",\"biasness\",'dummy1','dummy2','dummy3','dummy4','dummy5'])\n",
    "df_test = pd.DataFrame(columns=[\"id\",\"text\",\"biasness\",'dummy1','dummy2','dummy3','dummy4','dummy5'])"
   ]
  },
  {
   "cell_type": "code",
   "execution_count": 15,
   "metadata": {},
   "outputs": [],
   "source": [
    "## make sytle consistant with Bert Code required, 6 columns for features\n",
    "for i in range(n_train):\n",
    "    if i < split:\n",
    "        item = [i,data_pairs[i][0],data_pairs[i][1]]\n",
    "        item.extend(random.choices([0,1],k=5))\n",
    "        df.loc[i,] = item\n",
    "    else:\n",
    "        item = [i,data_pairs[i][0],data_pairs[i][1]]\n",
    "        item.extend(random.choices([0,1],k=5))\n",
    "        df_test.loc[i-split,] = item"
   ]
  },
  {
   "cell_type": "code",
   "execution_count": 17,
   "metadata": {},
   "outputs": [],
   "source": [
    "df.to_csv('../Bert-Multi-Label-Text-Classification/pybert/dataset/train_sample.csv',index=False)"
   ]
  },
  {
   "cell_type": "code",
   "execution_count": 76,
   "metadata": {},
   "outputs": [],
   "source": [
    "df_test.to_csv('./Bert-Multi-Label-Text-Classification/pybert/dataset/test.csv',index=False)"
   ]
  },
  {
   "cell_type": "code",
   "execution_count": 74,
   "metadata": {},
   "outputs": [
    {
     "data": {
      "text/html": [
       "<div>\n",
       "<style scoped>\n",
       "    .dataframe tbody tr th:only-of-type {\n",
       "        vertical-align: middle;\n",
       "    }\n",
       "\n",
       "    .dataframe tbody tr th {\n",
       "        vertical-align: top;\n",
       "    }\n",
       "\n",
       "    .dataframe thead th {\n",
       "        text-align: right;\n",
       "    }\n",
       "</style>\n",
       "<table border=\"1\" class=\"dataframe\">\n",
       "  <thead>\n",
       "    <tr style=\"text-align: right;\">\n",
       "      <th></th>\n",
       "      <th>id</th>\n",
       "      <th>text</th>\n",
       "      <th>biasness</th>\n",
       "      <th>dummy1</th>\n",
       "      <th>dummy2</th>\n",
       "      <th>dummy3</th>\n",
       "      <th>dummy4</th>\n",
       "      <th>dummy5</th>\n",
       "    </tr>\n",
       "  </thead>\n",
       "  <tbody>\n",
       "    <tr>\n",
       "      <th>0</th>\n",
       "      <td>0</td>\n",
       "      <td>Sedona's main attraction is its stunning array...</td>\n",
       "      <td>1</td>\n",
       "      <td>1</td>\n",
       "      <td>1</td>\n",
       "      <td>1</td>\n",
       "      <td>0</td>\n",
       "      <td>1</td>\n",
       "    </tr>\n",
       "    <tr>\n",
       "      <th>1</th>\n",
       "      <td>1</td>\n",
       "      <td>David Matthew Hicks (born 7 August 1975) is an...</td>\n",
       "      <td>1</td>\n",
       "      <td>1</td>\n",
       "      <td>0</td>\n",
       "      <td>0</td>\n",
       "      <td>0</td>\n",
       "      <td>1</td>\n",
       "    </tr>\n",
       "    <tr>\n",
       "      <th>2</th>\n",
       "      <td>2</td>\n",
       "      <td>The plates enable the whale to filter feed.</td>\n",
       "      <td>0</td>\n",
       "      <td>0</td>\n",
       "      <td>0</td>\n",
       "      <td>1</td>\n",
       "      <td>1</td>\n",
       "      <td>1</td>\n",
       "    </tr>\n",
       "    <tr>\n",
       "      <th>3</th>\n",
       "      <td>3</td>\n",
       "      <td>In the mandible (lower jaw), the mental forame...</td>\n",
       "      <td>0</td>\n",
       "      <td>1</td>\n",
       "      <td>1</td>\n",
       "      <td>1</td>\n",
       "      <td>1</td>\n",
       "      <td>1</td>\n",
       "    </tr>\n",
       "    <tr>\n",
       "      <th>4</th>\n",
       "      <td>4</td>\n",
       "      <td>Technically, however, the millennium began in ...</td>\n",
       "      <td>1</td>\n",
       "      <td>0</td>\n",
       "      <td>1</td>\n",
       "      <td>0</td>\n",
       "      <td>0</td>\n",
       "      <td>1</td>\n",
       "    </tr>\n",
       "    <tr>\n",
       "      <th>...</th>\n",
       "      <td>...</td>\n",
       "      <td>...</td>\n",
       "      <td>...</td>\n",
       "      <td>...</td>\n",
       "      <td>...</td>\n",
       "      <td>...</td>\n",
       "      <td>...</td>\n",
       "      <td>...</td>\n",
       "    </tr>\n",
       "    <tr>\n",
       "      <th>3312</th>\n",
       "      <td>3312</td>\n",
       "      <td>Brownlee refused to grant permission for the m...</td>\n",
       "      <td>0</td>\n",
       "      <td>0</td>\n",
       "      <td>1</td>\n",
       "      <td>1</td>\n",
       "      <td>1</td>\n",
       "      <td>1</td>\n",
       "    </tr>\n",
       "    <tr>\n",
       "      <th>3313</th>\n",
       "      <td>3313</td>\n",
       "      <td>Philip Brasor, editor of \"The Japan Times\", ex...</td>\n",
       "      <td>0</td>\n",
       "      <td>1</td>\n",
       "      <td>1</td>\n",
       "      <td>1</td>\n",
       "      <td>0</td>\n",
       "      <td>1</td>\n",
       "    </tr>\n",
       "    <tr>\n",
       "      <th>3314</th>\n",
       "      <td>3314</td>\n",
       "      <td>In 2004, a television crew recorded Spanish co...</td>\n",
       "      <td>1</td>\n",
       "      <td>0</td>\n",
       "      <td>0</td>\n",
       "      <td>1</td>\n",
       "      <td>0</td>\n",
       "      <td>1</td>\n",
       "    </tr>\n",
       "    <tr>\n",
       "      <th>3315</th>\n",
       "      <td>3315</td>\n",
       "      <td>McCarthy responded to the tragedy by launching...</td>\n",
       "      <td>1</td>\n",
       "      <td>0</td>\n",
       "      <td>1</td>\n",
       "      <td>1</td>\n",
       "      <td>1</td>\n",
       "      <td>0</td>\n",
       "    </tr>\n",
       "    <tr>\n",
       "      <th>3316</th>\n",
       "      <td>3316</td>\n",
       "      <td>Shackleton had calculated the return distance ...</td>\n",
       "      <td>0</td>\n",
       "      <td>0</td>\n",
       "      <td>0</td>\n",
       "      <td>0</td>\n",
       "      <td>1</td>\n",
       "      <td>0</td>\n",
       "    </tr>\n",
       "  </tbody>\n",
       "</table>\n",
       "<p>3317 rows × 8 columns</p>\n",
       "</div>"
      ],
      "text/plain": [
       "        id                                               text biasness dummy1  \\\n",
       "0        0  Sedona's main attraction is its stunning array...        1      1   \n",
       "1        1  David Matthew Hicks (born 7 August 1975) is an...        1      1   \n",
       "2        2        The plates enable the whale to filter feed.        0      0   \n",
       "3        3  In the mandible (lower jaw), the mental forame...        0      1   \n",
       "4        4  Technically, however, the millennium began in ...        1      0   \n",
       "...    ...                                                ...      ...    ...   \n",
       "3312  3312  Brownlee refused to grant permission for the m...        0      0   \n",
       "3313  3313  Philip Brasor, editor of \"The Japan Times\", ex...        0      1   \n",
       "3314  3314  In 2004, a television crew recorded Spanish co...        1      0   \n",
       "3315  3315  McCarthy responded to the tragedy by launching...        1      0   \n",
       "3316  3316  Shackleton had calculated the return distance ...        0      0   \n",
       "\n",
       "     dummy2 dummy3 dummy4 dummy5  \n",
       "0         1      1      0      1  \n",
       "1         0      0      0      1  \n",
       "2         0      1      1      1  \n",
       "3         1      1      1      1  \n",
       "4         1      0      0      1  \n",
       "...     ...    ...    ...    ...  \n",
       "3312      1      1      1      1  \n",
       "3313      1      1      0      1  \n",
       "3314      0      1      0      1  \n",
       "3315      1      1      1      0  \n",
       "3316      0      0      1      0  \n",
       "\n",
       "[3317 rows x 8 columns]"
      ]
     },
     "execution_count": 74,
     "metadata": {},
     "output_type": "execute_result"
    }
   ],
   "source": [
    "df"
   ]
  },
  {
   "cell_type": "code",
   "execution_count": 75,
   "metadata": {},
   "outputs": [
    {
     "data": {
      "text/html": [
       "<div>\n",
       "<style scoped>\n",
       "    .dataframe tbody tr th:only-of-type {\n",
       "        vertical-align: middle;\n",
       "    }\n",
       "\n",
       "    .dataframe tbody tr th {\n",
       "        vertical-align: top;\n",
       "    }\n",
       "\n",
       "    .dataframe thead th {\n",
       "        text-align: right;\n",
       "    }\n",
       "</style>\n",
       "<table border=\"1\" class=\"dataframe\">\n",
       "  <thead>\n",
       "    <tr style=\"text-align: right;\">\n",
       "      <th></th>\n",
       "      <th>id</th>\n",
       "      <th>text</th>\n",
       "      <th>biasness</th>\n",
       "      <th>dummy1</th>\n",
       "      <th>dummy2</th>\n",
       "      <th>dummy3</th>\n",
       "      <th>dummy4</th>\n",
       "      <th>dummy5</th>\n",
       "    </tr>\n",
       "  </thead>\n",
       "  <tbody>\n",
       "    <tr>\n",
       "      <th>0</th>\n",
       "      <td>3317</td>\n",
       "      <td>The song is also the topic of Italian poet Gio...</td>\n",
       "      <td>0</td>\n",
       "      <td>0</td>\n",
       "      <td>0</td>\n",
       "      <td>1</td>\n",
       "      <td>0</td>\n",
       "      <td>0</td>\n",
       "    </tr>\n",
       "    <tr>\n",
       "      <th>1</th>\n",
       "      <td>3318</td>\n",
       "      <td>As a survival horror game, \"Resident Evil 2\" f...</td>\n",
       "      <td>0</td>\n",
       "      <td>1</td>\n",
       "      <td>0</td>\n",
       "      <td>0</td>\n",
       "      <td>0</td>\n",
       "      <td>0</td>\n",
       "    </tr>\n",
       "    <tr>\n",
       "      <th>2</th>\n",
       "      <td>3319</td>\n",
       "      <td>Morris said that even without Curtis's death, ...</td>\n",
       "      <td>0</td>\n",
       "      <td>0</td>\n",
       "      <td>1</td>\n",
       "      <td>1</td>\n",
       "      <td>1</td>\n",
       "      <td>0</td>\n",
       "    </tr>\n",
       "    <tr>\n",
       "      <th>3</th>\n",
       "      <td>3320</td>\n",
       "      <td>Florida Governor Jeb Bush declared a state of ...</td>\n",
       "      <td>1</td>\n",
       "      <td>1</td>\n",
       "      <td>1</td>\n",
       "      <td>1</td>\n",
       "      <td>0</td>\n",
       "      <td>0</td>\n",
       "    </tr>\n",
       "    <tr>\n",
       "      <th>4</th>\n",
       "      <td>3321</td>\n",
       "      <td>In several countries outside the United Kingdo...</td>\n",
       "      <td>1</td>\n",
       "      <td>1</td>\n",
       "      <td>1</td>\n",
       "      <td>1</td>\n",
       "      <td>0</td>\n",
       "      <td>0</td>\n",
       "    </tr>\n",
       "    <tr>\n",
       "      <th>...</th>\n",
       "      <td>...</td>\n",
       "      <td>...</td>\n",
       "      <td>...</td>\n",
       "      <td>...</td>\n",
       "      <td>...</td>\n",
       "      <td>...</td>\n",
       "      <td>...</td>\n",
       "      <td>...</td>\n",
       "    </tr>\n",
       "    <tr>\n",
       "      <th>364</th>\n",
       "      <td>3681</td>\n",
       "      <td>The singular power, the singular originality a...</td>\n",
       "      <td>1</td>\n",
       "      <td>0</td>\n",
       "      <td>0</td>\n",
       "      <td>1</td>\n",
       "      <td>1</td>\n",
       "      <td>0</td>\n",
       "    </tr>\n",
       "    <tr>\n",
       "      <th>365</th>\n",
       "      <td>3682</td>\n",
       "      <td>Liberia, whose name means \"land of the free,\" ...</td>\n",
       "      <td>1</td>\n",
       "      <td>0</td>\n",
       "      <td>1</td>\n",
       "      <td>0</td>\n",
       "      <td>0</td>\n",
       "      <td>1</td>\n",
       "    </tr>\n",
       "    <tr>\n",
       "      <th>366</th>\n",
       "      <td>3683</td>\n",
       "      <td>Harry Dexter White, regarded by many as the pr...</td>\n",
       "      <td>1</td>\n",
       "      <td>1</td>\n",
       "      <td>0</td>\n",
       "      <td>1</td>\n",
       "      <td>0</td>\n",
       "      <td>0</td>\n",
       "    </tr>\n",
       "    <tr>\n",
       "      <th>367</th>\n",
       "      <td>3684</td>\n",
       "      <td>By then, he had been praised by both Gates and...</td>\n",
       "      <td>0</td>\n",
       "      <td>0</td>\n",
       "      <td>1</td>\n",
       "      <td>0</td>\n",
       "      <td>1</td>\n",
       "      <td>1</td>\n",
       "    </tr>\n",
       "    <tr>\n",
       "      <th>368</th>\n",
       "      <td>3685</td>\n",
       "      <td>From those experienced in recovery by religiou...</td>\n",
       "      <td>1</td>\n",
       "      <td>1</td>\n",
       "      <td>1</td>\n",
       "      <td>0</td>\n",
       "      <td>1</td>\n",
       "      <td>1</td>\n",
       "    </tr>\n",
       "  </tbody>\n",
       "</table>\n",
       "<p>369 rows × 8 columns</p>\n",
       "</div>"
      ],
      "text/plain": [
       "       id                                               text biasness dummy1  \\\n",
       "0    3317  The song is also the topic of Italian poet Gio...        0      0   \n",
       "1    3318  As a survival horror game, \"Resident Evil 2\" f...        0      1   \n",
       "2    3319  Morris said that even without Curtis's death, ...        0      0   \n",
       "3    3320  Florida Governor Jeb Bush declared a state of ...        1      1   \n",
       "4    3321  In several countries outside the United Kingdo...        1      1   \n",
       "..    ...                                                ...      ...    ...   \n",
       "364  3681  The singular power, the singular originality a...        1      0   \n",
       "365  3682  Liberia, whose name means \"land of the free,\" ...        1      0   \n",
       "366  3683  Harry Dexter White, regarded by many as the pr...        1      1   \n",
       "367  3684  By then, he had been praised by both Gates and...        0      0   \n",
       "368  3685  From those experienced in recovery by religiou...        1      1   \n",
       "\n",
       "    dummy2 dummy3 dummy4 dummy5  \n",
       "0        0      1      0      0  \n",
       "1        0      0      0      0  \n",
       "2        1      1      1      0  \n",
       "3        1      1      0      0  \n",
       "4        1      1      0      0  \n",
       "..     ...    ...    ...    ...  \n",
       "364      0      1      1      0  \n",
       "365      1      0      0      1  \n",
       "366      0      1      0      0  \n",
       "367      1      0      1      1  \n",
       "368      1      0      1      1  \n",
       "\n",
       "[369 rows x 8 columns]"
      ]
     },
     "execution_count": 75,
     "metadata": {},
     "output_type": "execute_result"
    }
   ],
   "source": [
    "df_test"
   ]
  },
  {
   "cell_type": "markdown",
   "metadata": {},
   "source": [
    "## Process AAAI 20 biased data"
   ]
  },
  {
   "cell_type": "code",
   "execution_count": 79,
   "metadata": {},
   "outputs": [],
   "source": []
  },
  {
   "cell_type": "code",
   "execution_count": 80,
   "metadata": {},
   "outputs": [],
   "source": []
  },
  {
   "cell_type": "code",
   "execution_count": 82,
   "metadata": {},
   "outputs": [
    {
     "data": {
      "text/plain": [
       "181496"
      ]
     },
     "execution_count": 82,
     "metadata": {},
     "output_type": "execute_result"
    }
   ],
   "source": [
    "len(pairs_full)"
   ]
  },
  {
   "cell_type": "code",
   "execution_count": null,
   "metadata": {},
   "outputs": [],
   "source": [
    "n_"
   ]
  }
 ],
 "metadata": {
  "kernelspec": {
   "display_name": "Python 3",
   "language": "python",
   "name": "python3"
  },
  "language_info": {
   "codemirror_mode": {
    "name": "ipython",
    "version": 3
   },
   "file_extension": ".py",
   "mimetype": "text/x-python",
   "name": "python",
   "nbconvert_exporter": "python",
   "pygments_lexer": "ipython3",
   "version": "3.7.7"
  }
 },
 "nbformat": 4,
 "nbformat_minor": 4
}

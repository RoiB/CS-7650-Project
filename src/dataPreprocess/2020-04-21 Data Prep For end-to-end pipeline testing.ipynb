{
 "cells": [
  {
   "cell_type": "code",
   "execution_count": 2,
   "metadata": {},
   "outputs": [],
   "source": [
    "import pandas as pd\n",
    "import random\n",
    "import re\n",
    "import matplotlib.pyplot as plt\n",
    "import pickle"
   ]
  },
  {
   "cell_type": "code",
   "execution_count": 5,
   "metadata": {},
   "outputs": [
    {
     "name": "stdout",
     "output_type": "stream",
     "text": [
      "len(pairs_full) 180184\n"
     ]
    }
   ],
   "source": [
    "pairs_full = []\n",
    "pairs_original = []\n",
    "with open('./biased.full') as f:\n",
    "    for line in f:\n",
    "        items = re.sub(' ##','',line).split('\\t')\n",
    "        if len(items[1].split())< 100:\n",
    "            pairs_full.append((items[0],items[1],items[2]))\n",
    "            pairs_original.append(line) # keep record of original unsubtituted strings for detection\n",
    "print('len(pairs_full)',len(pairs_full))"
   ]
  },
  {
   "cell_type": "code",
   "execution_count": 6,
   "metadata": {},
   "outputs": [],
   "source": [
    "idx_filtered = pickle.load(open( \"./idx_filtered\", \"rb\" ) )"
   ]
  },
  {
   "cell_type": "code",
   "execution_count": 7,
   "metadata": {},
   "outputs": [],
   "source": [
    "with open('biased.full.filtered','w') as f:\n",
    "    text=''\n",
    "    for line in pairs_original:\n",
    "        text+=line\n",
    "    f.write(text)"
   ]
  },
  {
   "cell_type": "code",
   "execution_count": null,
   "metadata": {},
   "outputs": [],
   "source": [
    "## TO DO\n",
    "## Data split to train and test"
   ]
  }
 ],
 "metadata": {
  "kernelspec": {
   "display_name": "Python 3",
   "language": "python",
   "name": "python3"
  },
  "language_info": {
   "codemirror_mode": {
    "name": "ipython",
    "version": 3
   },
   "file_extension": ".py",
   "mimetype": "text/x-python",
   "name": "python",
   "nbconvert_exporter": "python",
   "pygments_lexer": "ipython3",
   "version": "3.7.7"
  }
 },
 "nbformat": 4,
 "nbformat_minor": 4
}

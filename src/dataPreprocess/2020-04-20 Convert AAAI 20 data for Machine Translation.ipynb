{
 "cells": [
  {
   "cell_type": "code",
   "execution_count": 2,
   "metadata": {},
   "outputs": [],
   "source": [
    "## check biased.word.train to confirm simplediff\n",
    "import simplediff\n",
    "import re"
   ]
  },
  {
   "cell_type": "code",
   "execution_count": 24,
   "metadata": {},
   "outputs": [
    {
     "name": "stdout",
     "output_type": "stream",
     "text": [
      "len(pairs_full) 180184\n"
     ]
    }
   ],
   "source": [
    "# filter to have sentence length smaller than 50\n",
    "pairs_full = []\n",
    "with open('../cs7650_project_data/biased.full') as f:\n",
    "    for line in f:\n",
    "        items = re.sub(' ##','',line).split('\\t')\n",
    "        if len(items[1].split())< 100:\n",
    "            pairs_full.append((items[1],items[2]))\n",
    "print('len(pairs_full)',len(pairs_full))"
   ]
  },
  {
   "cell_type": "code",
   "execution_count": 25,
   "metadata": {},
   "outputs": [],
   "source": [
    "diff_list = [simplediff.string_diff(pair[0],pair[1]) for pair in pairs_full]"
   ]
  },
  {
   "cell_type": "code",
   "execution_count": 26,
   "metadata": {},
   "outputs": [
    {
     "data": {
      "text/plain": [
       "('=',\n",
       " ['today', ',', 'on', 'large', 'farms', ',', 'motorcycles', ',', 'dogs', 'or'])"
      ]
     },
     "execution_count": 26,
     "metadata": {},
     "output_type": "execute_result"
    }
   ],
   "source": [
    "diff_list[4][0]"
   ]
  },
  {
   "cell_type": "code",
   "execution_count": 27,
   "metadata": {},
   "outputs": [
    {
     "data": {
      "text/plain": [
       "[('=',\n",
       "  ['dennis',\n",
       "   'the',\n",
       "   'menace',\n",
       "   'is',\n",
       "   'an',\n",
       "   'american',\n",
       "   'animated',\n",
       "   'series',\n",
       "   'produced',\n",
       "   'by',\n",
       "   'dic',\n",
       "   'entertainment',\n",
       "   ',',\n",
       "   'based',\n",
       "   'on',\n",
       "   'the']),\n",
       " ('-', ['classic']),\n",
       " ('=', ['comic', 'strip', 'by', 'hank', 'ketcham', '.'])]"
      ]
     },
     "execution_count": 27,
     "metadata": {},
     "output_type": "execute_result"
    }
   ],
   "source": [
    "simplediff.string_diff(pairs_full[3][0],pairs_full[3][1])"
   ]
  },
  {
   "cell_type": "code",
   "execution_count": 28,
   "metadata": {},
   "outputs": [
    {
     "data": {
      "text/plain": [
       "'dennis the menace is an american animated series produced by dic entertainment , based on the <del>classic</del> comic strip by hank ketcham .'"
      ]
     },
     "execution_count": 28,
     "metadata": {},
     "output_type": "execute_result"
    }
   ],
   "source": [
    "simplediff.html_diff(pairs_full[3][0],pairs_full[3][1])"
   ]
  },
  {
   "cell_type": "code",
   "execution_count": 34,
   "metadata": {},
   "outputs": [
    {
     "name": "stdout",
     "output_type": "stream",
     "text": [
      "len(diff_pairs) 44987\n"
     ]
    }
   ],
   "source": [
    "# filter sentence pairs to have len(del) with 2-4 words\n",
    "diff_pairs = []\n",
    "idx_diff = [] # keep track of indice in pairs full\n",
    "for i,diff in enumerate(diff_list):\n",
    "#     # deletion case\n",
    "#     if len(diff) == 3 and diff[0][0]=='=' and diff[1][0]=='-' and diff[2][0]=='=':\n",
    "#         deletion = diff[1][1]\n",
    "#         if len(deletion) > 1 and len(deletion) < 4:\n",
    "#             diff_pairs.append((' '.join(deletion),''))\n",
    "#             idx_diff.append(i)\n",
    "\n",
    "    # delete and insert\n",
    "    if len(diff) == 4 and diff[0][0]=='=' and diff[1][0]=='-' and diff[2][0]=='+' and diff[3][0]=='=':\n",
    "        deletion = diff[1][1]\n",
    "        insertion = diff[2][1]\n",
    "        if len(deletion) > 0 and len(deletion) < 6 and len(insertion) > 0 and len(insertion) < 6:\n",
    "            diff_pairs.append((' '.join(deletion),' '.join(insertion)))\n",
    "            idx_diff.append(i)\n",
    "\n",
    "print(\"len(diff_pairs)\",len(diff_pairs))"
   ]
  },
  {
   "cell_type": "code",
   "execution_count": 35,
   "metadata": {},
   "outputs": [],
   "source": [
    "# write to file for translation\n",
    "with open('./bias-unbias.pair','w') as f:\n",
    "    text = ''\n",
    "    for a,b in diff_pairs:\n",
    "        text+=a+'\\t'+b+'\\n'\n",
    "    f.write(text)"
   ]
  },
  {
   "cell_type": "code",
   "execution_count": 31,
   "metadata": {},
   "outputs": [
    {
     "data": {
      "text/plain": [
       "(\"during the campaign , controversy erupted over alleged differences between palin ' s positions as a gubernatorial candidate and her position as a vice - presidential candidate .\",\n",
       " \"during the campaign , some pointed out alleged differences between palin ' s positions as a gubernatorial candidate and her position as a vice - presidential candidate .\")"
      ]
     },
     "execution_count": 31,
     "metadata": {},
     "output_type": "execute_result"
    }
   ],
   "source": [
    "pairs_full[0]"
   ]
  },
  {
   "cell_type": "code",
   "execution_count": 32,
   "metadata": {},
   "outputs": [],
   "source": [
    "# # write to file for Bert Classification corresponding to the bias-unbias pair\n",
    "# with open('./bias-unbias.pair.sentence','w') as f:\n",
    "#     text = ''\n",
    "#     for i in idx_diff:\n",
    "#         a,b = pairs_full[i]\n",
    "#         text+=a+'\\t'+b+'\\n'\n",
    "#     f.write(text)\n",
    "\n",
    "import pickle\n",
    "# save target idx for biased.full and save as pickle for Bert classification data prep\n",
    "pickle.dump(idx_diff,open(\"idx_filtered\",\"wb\"))"
   ]
  },
  {
   "cell_type": "code",
   "execution_count": null,
   "metadata": {},
   "outputs": [],
   "source": []
  },
  {
   "cell_type": "code",
   "execution_count": null,
   "metadata": {},
   "outputs": [],
   "source": []
  }
 ],
 "metadata": {
  "kernelspec": {
   "display_name": "Python 3",
   "language": "python",
   "name": "python3"
  },
  "language_info": {
   "codemirror_mode": {
    "name": "ipython",
    "version": 3
   },
   "file_extension": ".py",
   "mimetype": "text/x-python",
   "name": "python",
   "nbconvert_exporter": "python",
   "pygments_lexer": "ipython3",
   "version": "3.7.7"
  }
 },
 "nbformat": 4,
 "nbformat_minor": 4
}

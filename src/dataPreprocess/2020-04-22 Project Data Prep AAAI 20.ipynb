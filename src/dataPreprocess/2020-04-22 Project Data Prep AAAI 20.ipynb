{
 "cells": [
  {
   "cell_type": "code",
   "execution_count": 6,
   "metadata": {},
   "outputs": [],
   "source": [
    "import simplediff\n",
    "import re\n",
    "\n",
    "import pandas as pd\n",
    "import random\n",
    "import matplotlib.pyplot as plt\n",
    "import pickle"
   ]
  },
  {
   "cell_type": "code",
   "execution_count": 33,
   "metadata": {},
   "outputs": [
    {
     "name": "stdout",
     "output_type": "stream",
     "text": [
      "len(biased_full_filtered) 177220\n"
     ]
    }
   ],
   "source": [
    "# filter to have sentence length smaller than max_len\n",
    "max_len = 100\n",
    "biased_full_filtered = []\n",
    "biased_full_filtered_pairs_only = []\n",
    "biased_full_filtered_idx = []\n",
    "\n",
    "# change this path to you biased.full file\n",
    "with open('../cs7650_project_data/neutralizing-bias-data/bias_data/WNC/biased.full') as f:\n",
    "    for i,line in enumerate(f):\n",
    "        items = re.sub(' ##','',line).split('\\t')\n",
    "        if len(items[1].split())< 80:\n",
    "            biased_full_filtered_pairs_only.append((items[1],items[2],items[0]))\n",
    "            biased_full_filtered.append(line)\n",
    "            biased_full_filtered_idx.append(i)\n",
    "print('len(biased_full_filtered)',len(biased_full_filtered))"
   ]
  },
  {
   "cell_type": "code",
   "execution_count": 40,
   "metadata": {},
   "outputs": [],
   "source": [
    "diff_list = [(simplediff.string_diff(pair[0],pair[1]),pair[2]) for pair in biased_full_filtered_pairs_only]"
   ]
  },
  {
   "cell_type": "code",
   "execution_count": 76,
   "metadata": {},
   "outputs": [
    {
     "name": "stdout",
     "output_type": "stream",
     "text": [
      "len(diff_pairs) 10421\n"
     ]
    }
   ],
   "source": [
    "# filter sentence pairs to have len(del) with 2-6 words\n",
    "diff_pairs = []\n",
    "pairs_filterd = []\n",
    "idx_diff = [] # keep track of indice in pairs full\n",
    "for i,item in enumerate(diff_list):\n",
    "    # delete and insert\n",
    "    diff,wiki_id = item\n",
    "    if len(diff) == 4 and diff[0][0]=='=' and diff[1][0]=='-' and diff[2][0]=='+' and diff[3][0]=='=':\n",
    "        deletion = diff[1][1]\n",
    "        insertion = diff[2][1]\n",
    "        if len(deletion) > 1 and len(deletion) < 7 and len(insertion) > 1 and len(insertion) < 7:\n",
    "            diff_pairs.append((' '.join(deletion),' '.join(insertion),wiki_id))\n",
    "            idx_diff.append(i)\n",
    "            pairs_filterd.append(biased_full_filtered_pairs_only[i])\n",
    "\n",
    "print(\"len(diff_pairs)\",len(diff_pairs))"
   ]
  },
  {
   "cell_type": "code",
   "execution_count": 62,
   "metadata": {},
   "outputs": [
    {
     "name": "stdout",
     "output_type": "stream",
     "text": [
      "pairs len: 10421\n",
      "n_train: 7294\n",
      "n_eval 2084\n",
      "n_test 1043\n"
     ]
    }
   ],
   "source": [
    "# Train, eval, text split\n",
    "n_pairs = len(diff_pairs)\n",
    "n_eval = int(.7*n_pairs)\n",
    "n_test = int(.9*n_pairs)\n",
    "print('pairs len:', n_pairs)\n",
    "print('n_train:',n_eval)\n",
    "print('n_eval',n_test-n_eval)\n",
    "print('n_test',n_pairs-n_test)"
   ]
  },
  {
   "cell_type": "code",
   "execution_count": 80,
   "metadata": {},
   "outputs": [],
   "source": [
    "# create idx for splitting\n",
    "idx_list = list(range(n_pairs))\n",
    "random.shuffle(idx_list)"
   ]
  },
  {
   "cell_type": "markdown",
   "metadata": {},
   "source": [
    "# Prepare file for detection"
   ]
  },
  {
   "cell_type": "code",
   "execution_count": 82,
   "metadata": {},
   "outputs": [],
   "source": [
    "with open('./biased.full.filtered.train','w') as f:\n",
    "    text = ''\n",
    "    for i in idx_list[:n_eval]:\n",
    "        text+=biased_full_filtered[i]\n",
    "    f.write(text)\n",
    "\n",
    "with open('./biased.full.filtered.eval','w') as f:\n",
    "    text = ''\n",
    "    for i in idx_list[n_eval:n_test]:\n",
    "        text+=biased_full_filtered[i]\n",
    "    f.write(text)\n",
    "\n",
    "with open('./biased.full.filtered.test','w') as f:\n",
    "    text = ''\n",
    "    for i in idx_list[n_test:]:\n",
    "        text+=biased_full_filtered[i]\n",
    "    f.write(text)"
   ]
  },
  {
   "cell_type": "markdown",
   "metadata": {},
   "source": [
    "# Prepare file for translation"
   ]
  },
  {
   "cell_type": "code",
   "execution_count": 86,
   "metadata": {},
   "outputs": [],
   "source": [
    "with open('./bias-unbias.pair.train','w') as f:\n",
    "    text = ''\n",
    "    for i in idx_list[:n_eval]:\n",
    "        a,b,_ = diff_pairs[i]\n",
    "        text+=a+'\\t'+b+'\\n'\n",
    "    f.write(text)\n",
    "\n",
    "with open('./bias-unbias.pair.eval','w') as f:\n",
    "    text = ''\n",
    "    for i in idx_list[n_eval:n_test]:\n",
    "        a,b,_ = diff_pairs[i]\n",
    "        text+=a+'\\t'+b+'\\n'\n",
    "    f.write(text)\n",
    "\n",
    "with open('./bias-unbias.pair.test','w') as f:\n",
    "    text = ''\n",
    "    for i in idx_list[n_test:]:\n",
    "        a,b,_ = diff_pairs[i]\n",
    "        text+=a+'\\t'+b+'\\n'\n",
    "    f.write(text)"
   ]
  },
  {
   "cell_type": "markdown",
   "metadata": {},
   "source": [
    "# Prepare file for classification"
   ]
  },
  {
   "cell_type": "code",
   "execution_count": 89,
   "metadata": {},
   "outputs": [
    {
     "name": "stdout",
     "output_type": "stream",
     "text": [
      "n_choice 10421\n"
     ]
    }
   ],
   "source": [
    "n_choice = len(idx_list)\n",
    "bias_sent = [pair[0] for pair in pairs_filterd]\n",
    "neutral_sent = [pair[1] for pair in pairs_filterd]\n",
    "wiki_id_sent = [pair[2] for pair in pairs_filterd]\n",
    "print(\"n_choice\", n_choice)"
   ]
  },
  {
   "cell_type": "code",
   "execution_count": 90,
   "metadata": {},
   "outputs": [
    {
     "data": {
      "image/png": "[encoded data removed]",
      "text/plain": [
       "<Figure size 432x288 with 1 Axes>"
      ]
     },
     "metadata": {
      "needs_background": "light"
     },
     "output_type": "display_data"
    }
   ],
   "source": [
    "plt.hist(list(map(lambda x: len(x.split()),bias_sent)))\n",
    "plt.show()"
   ]
  },
  {
   "cell_type": "code",
   "execution_count": 109,
   "metadata": {},
   "outputs": [
    {
     "name": "stdout",
     "output_type": "stream",
     "text": [
      "len(data_pairs) 20842\n"
     ]
    }
   ],
   "source": [
    "# mix neutral and \n",
    "data_pairs_bias = list(zip(wiki_id_sent,bias_sent,[1]*n_choice))\n",
    "data_pairs_neutral = list(zip(wiki_id_sent,neutral_sent, [0]*n_choice))\n",
    "data_pairs = []\n",
    "\n",
    "idx = 0\n",
    "for i in range(2*n_choice):\n",
    "    if i%2 is 0:\n",
    "        data_pairs.append(data_pairs_bias[idx])\n",
    "    else:\n",
    "        data_pairs.append(data_pairs_neutral[idx])\n",
    "        idx+=1\n",
    "print('len(data_pairs)',len(data_pairs))"
   ]
  },
  {
   "cell_type": "code",
   "execution_count": 113,
   "metadata": {},
   "outputs": [],
   "source": [
    "df_train = pd.DataFrame(index=range(n_eval),columns=[\"id\",\"text\",\"biasness\",'dummy1','dummy2','dummy3','dummy4','dummy5'])\n",
    "df_eval = pd.DataFrame(index=range(n_test-n_eval),columns=[\"id\",\"text\",\"biasness\",'dummy1','dummy2','dummy3','dummy4','dummy5'])\n",
    "df_test = pd.DataFrame(index=range(n_pairs-n_test),columns=[\"id\",\"text\",\"biasness\",'dummy1','dummy2','dummy3','dummy4','dummy5'])"
   ]
  },
  {
   "cell_type": "code",
   "execution_count": 116,
   "metadata": {},
   "outputs": [],
   "source": [
    "## make sytle consistant with Bert Code required, 6 columns for features\n",
    "for i in range(n_pairs):\n",
    "    item = (data_pairs[i][0],data_pairs[i][1],data_pairs[i][2])\n",
    "    item+=tuple(random.choices([0,1],k=5))\n",
    "    if i < n_eval:\n",
    "        df_train.loc[i,] = item\n",
    "    elif i < n_test:\n",
    "        df_eval.loc[i-n_eval,] = item\n",
    "    else:\n",
    "        df_test.loc[i-n_test,] = item"
   ]
  },
  {
   "cell_type": "code",
   "execution_count": 117,
   "metadata": {},
   "outputs": [],
   "source": [
    "df_train.to_csv('./train_sample.csv',index=False)\n",
    "df_eval.to_csv('./eval_sample.csv',index=False)\n",
    "df_test.to_csv('./test_sample.csv',index=False)"
   ]
  },
  {
   "cell_type": "code",
   "execution_count": null,
   "metadata": {},
   "outputs": [],
   "source": []
  }
 ],
 "metadata": {
  "kernelspec": {
   "display_name": "Python 3",
   "language": "python",
   "name": "python3"
  },
  "language_info": {
   "codemirror_mode": {
    "name": "ipython",
    "version": 3
   },
   "file_extension": ".py",
   "mimetype": "text/x-python",
   "name": "python",
   "nbconvert_exporter": "python",
   "pygments_lexer": "ipython3",
   "version": "3.7.7"
  }
 },
 "nbformat": 4,
 "nbformat_minor": 4
}

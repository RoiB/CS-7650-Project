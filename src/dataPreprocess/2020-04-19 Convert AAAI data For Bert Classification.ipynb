{
 "cells": [
  {
   "cell_type": "code",
   "execution_count": 31,
   "metadata": {},
   "outputs": [],
   "source": [
    "import pandas as pd\n",
    "import random\n",
    "import re\n",
    "import matplotlib.pyplot as plt\n",
    "import pickle"
   ]
  },
  {
   "cell_type": "code",
   "execution_count": 32,
   "metadata": {},
   "outputs": [],
   "source": [
    "# with open('../cs7650_project_data/biased.full') as f:\n",
    "#     count = 0\n",
    "#     for line in f:\n",
    "#         if count < 10:\n",
    "#             for i,item in enumerate(re.sub(' ##','',line).split('\\t')):\n",
    "#                 print(i,item)\n",
    "#         count += 1"
   ]
  },
  {
   "cell_type": "code",
   "execution_count": 34,
   "metadata": {},
   "outputs": [
    {
     "name": "stdout",
     "output_type": "stream",
     "text": [
      "len(pairs_full) 180184\n"
     ]
    }
   ],
   "source": [
    "pairs_full = []\n",
    "with open('../cs7650_project_data/biased.full') as f:\n",
    "    for line in f:\n",
    "        items = re.sub(' ##','',line).split('\\t')\n",
    "        if len(items[1].split())< 100:\n",
    "            pairs_full.append((items[0],items[1],items[2]))\n",
    "print('len(pairs_full)',len(pairs_full))\n"
   ]
  },
  {
   "cell_type": "code",
   "execution_count": 35,
   "metadata": {},
   "outputs": [],
   "source": [
    "# # filter out delete more than one word and insert\n",
    "# idx_del2_ins = []\n",
    "# for i,pair in enumerate(pairs_full):\n",
    "#     a,b = pair\n",
    "#     diff = simplediff.string_diff(a,b)\n",
    "#     if len(diff) is 4:\n",
    "#         _,delete,_,_ = diff\n",
    "#         _,c = delete\n",
    "#         if len(c) > 1:\n",
    "#             idx_del2_ins.append(i)\n",
    "# print('# of delete more than 1 and insert pairs:', len(idx_del2_ins))"
   ]
  },
  {
   "cell_type": "code",
   "execution_count": 36,
   "metadata": {},
   "outputs": [],
   "source": [
    "idx_filtered = None"
   ]
  },
  {
   "cell_type": "code",
   "execution_count": 37,
   "metadata": {},
   "outputs": [],
   "source": [
    "idx_filtered = pickle.load(open( \"./idx_filtered\", \"rb\" ) )"
   ]
  },
  {
   "cell_type": "code",
   "execution_count": 38,
   "metadata": {},
   "outputs": [],
   "source": [
    "if idx_filtered:\n",
    "    pairs_short = []\n",
    "    for i in idx_filtered:\n",
    "        pairs_short.append(pairs_full[i])\n",
    "    n_choice = len(pairs_short)\n",
    "else:\n",
    "    n_choice = int(len(pairs_full)/1) # choose a small size to test result\n",
    "    pairs_short = random.sample(pairs_full,k=n_choice) # bias neutral pairs"
   ]
  },
  {
   "cell_type": "markdown",
   "metadata": {},
   "source": [
    "Randomly mix biased and neutral statement together with 0 as neutral and 1 as biased"
   ]
  },
  {
   "cell_type": "code",
   "execution_count": 39,
   "metadata": {},
   "outputs": [],
   "source": [
    "bias_sent = [pair[1] for pair in pairs_short]\n",
    "neutral_sent = [pair[2] for pair in pairs_short]"
   ]
  },
  {
   "cell_type": "code",
   "execution_count": 40,
   "metadata": {},
   "outputs": [
    {
     "data": {
      "text/plain": [
       "(array([ 4039., 11025., 12462.,  7658.,  4929.,  2333.,  1372.,   638.,\n",
       "          348.,   183.]),\n",
       " array([ 4. , 13.5, 23. , 32.5, 42. , 51.5, 61. , 70.5, 80. , 89.5, 99. ]),\n",
       " <a list of 10 Patch objects>)"
      ]
     },
     "execution_count": 40,
     "metadata": {},
     "output_type": "execute_result"
    },
    {
     "data": {
      "image/png": "[encoded data removed]",
      "text/plain": [
       "<Figure size 432x288 with 1 Axes>"
      ]
     },
     "metadata": {
      "needs_background": "light"
     },
     "output_type": "display_data"
    }
   ],
   "source": [
    "plt.hist(list(map(lambda x: len(x.split()),bias_sent)))"
   ]
  },
  {
   "cell_type": "code",
   "execution_count": 41,
   "metadata": {},
   "outputs": [],
   "source": [
    "data_pairs = list(zip(bias_sent,[1]*n_choice))\n",
    "data_pairs.extend(list(zip(neutral_sent, [0]*n_choice)))\n",
    "random.shuffle(data_pairs)"
   ]
  },
  {
   "cell_type": "markdown",
   "metadata": {},
   "source": [
    "## make csv file"
   ]
  },
  {
   "cell_type": "code",
   "execution_count": 42,
   "metadata": {},
   "outputs": [
    {
     "name": "stdout",
     "output_type": "stream",
     "text": [
      "pairs len: 89974\n",
      "split: 80976\n"
     ]
    }
   ],
   "source": [
    "# split train test pairs\n",
    "n_train = len(data_pairs)\n",
    "split = int(.9*n_train)\n",
    "print('pairs len:', n_train)\n",
    "print('split:',split)"
   ]
  },
  {
   "cell_type": "code",
   "execution_count": 43,
   "metadata": {},
   "outputs": [],
   "source": [
    "df = pd.DataFrame(index=range(split),columns=[\"id\",\"text\",\"biasness\",'dummy1','dummy2','dummy3','dummy4','dummy5'])\n",
    "df_test = pd.DataFrame(index=range(split,n_train),columns=[\"id\",\"text\",\"biasness\",'dummy1','dummy2','dummy3','dummy4','dummy5'])"
   ]
  },
  {
   "cell_type": "code",
   "execution_count": 44,
   "metadata": {},
   "outputs": [],
   "source": [
    "## make sytle consistant with Bert Code required, 6 columns for features\n",
    "for i in range(n_train):\n",
    "    if i < split:\n",
    "        item = (i,data_pairs[i][0],data_pairs[i][1])\n",
    "        item+=tuple(random.choices([0,1],k=5))\n",
    "        df.loc[i,] = item\n",
    "    else:\n",
    "        item = (i,data_pairs[i][0],data_pairs[i][1])\n",
    "        item+=tuple(random.choices([0,1],k=5))\n",
    "        df_test.loc[i-split,] = item"
   ]
  },
  {
   "cell_type": "code",
   "execution_count": 45,
   "metadata": {},
   "outputs": [],
   "source": [
    "df.to_csv('../Bert-Multi-Label-Text-Classification/pybert/dataset/train_sample.csv',index=False)"
   ]
  },
  {
   "cell_type": "code",
   "execution_count": 18,
   "metadata": {},
   "outputs": [],
   "source": [
    "# df_test.to_csv('./Bert-Multi-Label-Text-Classification/pybert/dataset/test.csv',index=False)"
   ]
  },
  {
   "cell_type": "code",
   "execution_count": 19,
   "metadata": {},
   "outputs": [
    {
     "data": {
      "text/html": [
       "<div>\n",
       "<style scoped>\n",
       "    .dataframe tbody tr th:only-of-type {\n",
       "        vertical-align: middle;\n",
       "    }\n",
       "\n",
       "    .dataframe tbody tr th {\n",
       "        vertical-align: top;\n",
       "    }\n",
       "\n",
       "    .dataframe thead th {\n",
       "        text-align: right;\n",
       "    }\n",
       "</style>\n",
       "<table border=\"1\" class=\"dataframe\">\n",
       "  <thead>\n",
       "    <tr style=\"text-align: right;\">\n",
       "      <th></th>\n",
       "      <th>id</th>\n",
       "      <th>text</th>\n",
       "      <th>biasness</th>\n",
       "      <th>dummy1</th>\n",
       "      <th>dummy2</th>\n",
       "      <th>dummy3</th>\n",
       "      <th>dummy4</th>\n",
       "      <th>dummy5</th>\n",
       "    </tr>\n",
       "  </thead>\n",
       "  <tbody>\n",
       "    <tr>\n",
       "      <th>0</th>\n",
       "      <td>0</td>\n",
       "      <td>this extraordinary voyage became part of seafa...</td>\n",
       "      <td>1</td>\n",
       "      <td>1</td>\n",
       "      <td>1</td>\n",
       "      <td>0</td>\n",
       "      <td>0</td>\n",
       "      <td>1</td>\n",
       "    </tr>\n",
       "    <tr>\n",
       "      <th>1</th>\n",
       "      <td>1</td>\n",
       "      <td>mount holyoke college is a prestigious liberal...</td>\n",
       "      <td>1</td>\n",
       "      <td>1</td>\n",
       "      <td>0</td>\n",
       "      <td>1</td>\n",
       "      <td>1</td>\n",
       "      <td>1</td>\n",
       "    </tr>\n",
       "    <tr>\n",
       "      <th>2</th>\n",
       "      <td>2</td>\n",
       "      <td>an early adversary of popper ' s critical rati...</td>\n",
       "      <td>0</td>\n",
       "      <td>1</td>\n",
       "      <td>1</td>\n",
       "      <td>0</td>\n",
       "      <td>0</td>\n",
       "      <td>1</td>\n",
       "    </tr>\n",
       "    <tr>\n",
       "      <th>3</th>\n",
       "      <td>3</td>\n",
       "      <td>david ray griffin is a resident of santa barba...</td>\n",
       "      <td>0</td>\n",
       "      <td>1</td>\n",
       "      <td>1</td>\n",
       "      <td>0</td>\n",
       "      <td>0</td>\n",
       "      <td>0</td>\n",
       "    </tr>\n",
       "    <tr>\n",
       "      <th>4</th>\n",
       "      <td>4</td>\n",
       "      <td>for that reason the kmt attempted to \" siniciz...</td>\n",
       "      <td>0</td>\n",
       "      <td>0</td>\n",
       "      <td>0</td>\n",
       "      <td>0</td>\n",
       "      <td>1</td>\n",
       "      <td>0</td>\n",
       "    </tr>\n",
       "    <tr>\n",
       "      <th>...</th>\n",
       "      <td>...</td>\n",
       "      <td>...</td>\n",
       "      <td>...</td>\n",
       "      <td>...</td>\n",
       "      <td>...</td>\n",
       "      <td>...</td>\n",
       "      <td>...</td>\n",
       "      <td>...</td>\n",
       "    </tr>\n",
       "    <tr>\n",
       "      <th>32663</th>\n",
       "      <td>32663</td>\n",
       "      <td>mecca cola , an arab - israeli activist bevera...</td>\n",
       "      <td>0</td>\n",
       "      <td>0</td>\n",
       "      <td>1</td>\n",
       "      <td>0</td>\n",
       "      <td>1</td>\n",
       "      <td>0</td>\n",
       "    </tr>\n",
       "    <tr>\n",
       "      <th>32664</th>\n",
       "      <td>32664</td>\n",
       "      <td>as he informs his wife , heather ( lesley manv...</td>\n",
       "      <td>1</td>\n",
       "      <td>0</td>\n",
       "      <td>1</td>\n",
       "      <td>0</td>\n",
       "      <td>0</td>\n",
       "      <td>0</td>\n",
       "    </tr>\n",
       "    <tr>\n",
       "      <th>32665</th>\n",
       "      <td>32665</td>\n",
       "      <td>she sparked controversy among u . s . leftists...</td>\n",
       "      <td>1</td>\n",
       "      <td>0</td>\n",
       "      <td>0</td>\n",
       "      <td>0</td>\n",
       "      <td>1</td>\n",
       "      <td>0</td>\n",
       "    </tr>\n",
       "    <tr>\n",
       "      <th>32666</th>\n",
       "      <td>32666</td>\n",
       "      <td>it was said that for the first eight days of c...</td>\n",
       "      <td>0</td>\n",
       "      <td>0</td>\n",
       "      <td>0</td>\n",
       "      <td>1</td>\n",
       "      <td>1</td>\n",
       "      <td>1</td>\n",
       "    </tr>\n",
       "    <tr>\n",
       "      <th>32667</th>\n",
       "      <td>32667</td>\n",
       "      <td>born in kilmoyley , county kerry , fitzell fir...</td>\n",
       "      <td>1</td>\n",
       "      <td>1</td>\n",
       "      <td>1</td>\n",
       "      <td>1</td>\n",
       "      <td>0</td>\n",
       "      <td>0</td>\n",
       "    </tr>\n",
       "  </tbody>\n",
       "</table>\n",
       "<p>32668 rows × 8 columns</p>\n",
       "</div>"
      ],
      "text/plain": [
       "          id                                               text biasness  \\\n",
       "0          0  this extraordinary voyage became part of seafa...        1   \n",
       "1          1  mount holyoke college is a prestigious liberal...        1   \n",
       "2          2  an early adversary of popper ' s critical rati...        0   \n",
       "3          3  david ray griffin is a resident of santa barba...        0   \n",
       "4          4  for that reason the kmt attempted to \" siniciz...        0   \n",
       "...      ...                                                ...      ...   \n",
       "32663  32663  mecca cola , an arab - israeli activist bevera...        0   \n",
       "32664  32664  as he informs his wife , heather ( lesley manv...        1   \n",
       "32665  32665  she sparked controversy among u . s . leftists...        1   \n",
       "32666  32666  it was said that for the first eight days of c...        0   \n",
       "32667  32667  born in kilmoyley , county kerry , fitzell fir...        1   \n",
       "\n",
       "      dummy1 dummy2 dummy3 dummy4 dummy5  \n",
       "0          1      1      0      0      1  \n",
       "1          1      0      1      1      1  \n",
       "2          1      1      0      0      1  \n",
       "3          1      1      0      0      0  \n",
       "4          0      0      0      1      0  \n",
       "...      ...    ...    ...    ...    ...  \n",
       "32663      0      1      0      1      0  \n",
       "32664      0      1      0      0      0  \n",
       "32665      0      0      0      1      0  \n",
       "32666      0      0      1      1      1  \n",
       "32667      1      1      1      0      0  \n",
       "\n",
       "[32668 rows x 8 columns]"
      ]
     },
     "execution_count": 19,
     "metadata": {},
     "output_type": "execute_result"
    }
   ],
   "source": [
    "df"
   ]
  },
  {
   "cell_type": "code",
   "execution_count": 20,
   "metadata": {},
   "outputs": [
    {
     "data": {
      "text/html": [
       "<div>\n",
       "<style scoped>\n",
       "    .dataframe tbody tr th:only-of-type {\n",
       "        vertical-align: middle;\n",
       "    }\n",
       "\n",
       "    .dataframe tbody tr th {\n",
       "        vertical-align: top;\n",
       "    }\n",
       "\n",
       "    .dataframe thead th {\n",
       "        text-align: right;\n",
       "    }\n",
       "</style>\n",
       "<table border=\"1\" class=\"dataframe\">\n",
       "  <thead>\n",
       "    <tr style=\"text-align: right;\">\n",
       "      <th></th>\n",
       "      <th>id</th>\n",
       "      <th>text</th>\n",
       "      <th>biasness</th>\n",
       "      <th>dummy1</th>\n",
       "      <th>dummy2</th>\n",
       "      <th>dummy3</th>\n",
       "      <th>dummy4</th>\n",
       "      <th>dummy5</th>\n",
       "    </tr>\n",
       "  </thead>\n",
       "  <tbody>\n",
       "    <tr>\n",
       "      <th>0</th>\n",
       "      <td>32668</td>\n",
       "      <td>inside he discovers seven cassette tapes recor...</td>\n",
       "      <td>0</td>\n",
       "      <td>1</td>\n",
       "      <td>0</td>\n",
       "      <td>0</td>\n",
       "      <td>1</td>\n",
       "      <td>1</td>\n",
       "    </tr>\n",
       "    <tr>\n",
       "      <th>1</th>\n",
       "      <td>32669</td>\n",
       "      <td>common law copyright is the legal doctrine whi...</td>\n",
       "      <td>0</td>\n",
       "      <td>1</td>\n",
       "      <td>0</td>\n",
       "      <td>0</td>\n",
       "      <td>0</td>\n",
       "      <td>1</td>\n",
       "    </tr>\n",
       "    <tr>\n",
       "      <th>2</th>\n",
       "      <td>32670</td>\n",
       "      <td>stroh ' s ice cream is positioned as a premium...</td>\n",
       "      <td>0</td>\n",
       "      <td>1</td>\n",
       "      <td>0</td>\n",
       "      <td>0</td>\n",
       "      <td>1</td>\n",
       "      <td>1</td>\n",
       "    </tr>\n",
       "    <tr>\n",
       "      <th>3</th>\n",
       "      <td>32671</td>\n",
       "      <td>the practitioner then is said to act as a chan...</td>\n",
       "      <td>0</td>\n",
       "      <td>0</td>\n",
       "      <td>1</td>\n",
       "      <td>0</td>\n",
       "      <td>0</td>\n",
       "      <td>1</td>\n",
       "    </tr>\n",
       "    <tr>\n",
       "      <th>4</th>\n",
       "      <td>32672</td>\n",
       "      <td>however , both appear briefly in the film , an...</td>\n",
       "      <td>1</td>\n",
       "      <td>0</td>\n",
       "      <td>1</td>\n",
       "      <td>0</td>\n",
       "      <td>0</td>\n",
       "      <td>0</td>\n",
       "    </tr>\n",
       "    <tr>\n",
       "      <th>...</th>\n",
       "      <td>...</td>\n",
       "      <td>...</td>\n",
       "      <td>...</td>\n",
       "      <td>...</td>\n",
       "      <td>...</td>\n",
       "      <td>...</td>\n",
       "      <td>...</td>\n",
       "      <td>...</td>\n",
       "    </tr>\n",
       "    <tr>\n",
       "      <th>3625</th>\n",
       "      <td>36293</td>\n",
       "      <td>some linguists place it in the altaic language...</td>\n",
       "      <td>0</td>\n",
       "      <td>0</td>\n",
       "      <td>0</td>\n",
       "      <td>1</td>\n",
       "      <td>1</td>\n",
       "      <td>0</td>\n",
       "    </tr>\n",
       "    <tr>\n",
       "      <th>3626</th>\n",
       "      <td>36294</td>\n",
       "      <td>clifton powell ( born march 16 , 1956 ) is an ...</td>\n",
       "      <td>1</td>\n",
       "      <td>0</td>\n",
       "      <td>0</td>\n",
       "      <td>0</td>\n",
       "      <td>0</td>\n",
       "      <td>1</td>\n",
       "    </tr>\n",
       "    <tr>\n",
       "      <th>3627</th>\n",
       "      <td>36295</td>\n",
       "      <td>many are vegan , due to their perceived violen...</td>\n",
       "      <td>0</td>\n",
       "      <td>0</td>\n",
       "      <td>1</td>\n",
       "      <td>0</td>\n",
       "      <td>1</td>\n",
       "      <td>0</td>\n",
       "    </tr>\n",
       "    <tr>\n",
       "      <th>3628</th>\n",
       "      <td>36296</td>\n",
       "      <td>bbc costume and wigs - trading as part of bbc ...</td>\n",
       "      <td>1</td>\n",
       "      <td>1</td>\n",
       "      <td>0</td>\n",
       "      <td>0</td>\n",
       "      <td>1</td>\n",
       "      <td>1</td>\n",
       "    </tr>\n",
       "    <tr>\n",
       "      <th>3629</th>\n",
       "      <td>36297</td>\n",
       "      <td>he was re - elected to that office by large ma...</td>\n",
       "      <td>1</td>\n",
       "      <td>0</td>\n",
       "      <td>0</td>\n",
       "      <td>0</td>\n",
       "      <td>0</td>\n",
       "      <td>1</td>\n",
       "    </tr>\n",
       "  </tbody>\n",
       "</table>\n",
       "<p>3630 rows × 8 columns</p>\n",
       "</div>"
      ],
      "text/plain": [
       "         id                                               text biasness  \\\n",
       "0     32668  inside he discovers seven cassette tapes recor...        0   \n",
       "1     32669  common law copyright is the legal doctrine whi...        0   \n",
       "2     32670  stroh ' s ice cream is positioned as a premium...        0   \n",
       "3     32671  the practitioner then is said to act as a chan...        0   \n",
       "4     32672  however , both appear briefly in the film , an...        1   \n",
       "...     ...                                                ...      ...   \n",
       "3625  36293  some linguists place it in the altaic language...        0   \n",
       "3626  36294  clifton powell ( born march 16 , 1956 ) is an ...        1   \n",
       "3627  36295  many are vegan , due to their perceived violen...        0   \n",
       "3628  36296  bbc costume and wigs - trading as part of bbc ...        1   \n",
       "3629  36297  he was re - elected to that office by large ma...        1   \n",
       "\n",
       "     dummy1 dummy2 dummy3 dummy4 dummy5  \n",
       "0         1      0      0      1      1  \n",
       "1         1      0      0      0      1  \n",
       "2         1      0      0      1      1  \n",
       "3         0      1      0      0      1  \n",
       "4         0      1      0      0      0  \n",
       "...     ...    ...    ...    ...    ...  \n",
       "3625      0      0      1      1      0  \n",
       "3626      0      0      0      0      1  \n",
       "3627      0      1      0      1      0  \n",
       "3628      1      0      0      1      1  \n",
       "3629      0      0      0      0      1  \n",
       "\n",
       "[3630 rows x 8 columns]"
      ]
     },
     "execution_count": 20,
     "metadata": {},
     "output_type": "execute_result"
    }
   ],
   "source": [
    "df_test"
   ]
  },
  {
   "cell_type": "markdown",
   "metadata": {},
   "source": [
    "## Process AAAI 20 biased data"
   ]
  },
  {
   "cell_type": "code",
   "execution_count": 79,
   "metadata": {},
   "outputs": [],
   "source": [
    "import re"
   ]
  },
  {
   "cell_type": "code",
   "execution_count": 80,
   "metadata": {},
   "outputs": [],
   "source": [
    "pairs_full = []\n",
    "with open('../cs7650_project_data/biased.full') as f:\n",
    "    for line in f:\n",
    "        items = line.split('\\t')\n",
    "        pairs_full.append((items[0],re.sub(' ##','',items[1]),re.sub(' ##','',items[2])))"
   ]
  },
  {
   "cell_type": "code",
   "execution_count": 82,
   "metadata": {},
   "outputs": [
    {
     "data": {
      "text/plain": [
       "181496"
      ]
     },
     "execution_count": 82,
     "metadata": {},
     "output_type": "execute_result"
    }
   ],
   "source": [
    "len(pairs_full)"
   ]
  }
 ],
 "metadata": {
  "kernelspec": {
   "display_name": "Python 3",
   "language": "python",
   "name": "python3"
  },
  "language_info": {
   "codemirror_mode": {
    "name": "ipython",
    "version": 3
   },
   "file_extension": ".py",
   "mimetype": "text/x-python",
   "name": "python",
   "nbconvert_exporter": "python",
   "pygments_lexer": "ipython3",
   "version": "3.7.7"
  }
 },
 "nbformat": 4,
 "nbformat_minor": 4
}

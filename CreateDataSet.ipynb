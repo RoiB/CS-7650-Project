{
 "cells": [
  {
   "cell_type": "code",
   "execution_count": 2,
   "metadata": {},
   "outputs": [],
   "source": [
    "# Modify hube 19 dataset so that \n",
    "# each sentence is associated with a correct label to the right with '\\t' delimited"
   ]
  },
  {
   "cell_type": "code",
   "execution_count": 4,
   "metadata": {},
   "outputs": [],
   "source": [
    "label = 'biased'\n",
    "with open('statements_biased') as foo:\n",
    "    new_text = ''\n",
    "    for line in foo:\n",
    "        new_text+=line.rstrip()+'\\t'+label+'\\n'\n",
    "    with open('statements_biased_labeled','w') as foo2:\n",
    "        foo2.write(new_text)"
   ]
  },
  {
   "cell_type": "code",
   "execution_count": 5,
   "metadata": {},
   "outputs": [],
   "source": [
    "label = 'neutral'\n",
    "with open('statements_neutral_featured') as foo:\n",
    "    new_text = ''\n",
    "    for line in foo:\n",
    "        new_text+=line.rstrip()+'\\t'+label+'\\n'\n",
    "    with open('statements_neutral_featured_labeled','w') as foo2:\n",
    "        foo2.write(new_text)"
   ]
  },
  {
   "cell_type": "code",
   "execution_count": 6,
   "metadata": {},
   "outputs": [],
   "source": [
    "with open('./data/eng-label.txt','w') as foo:\n",
    "    text = ''\n",
    "    with open('statements_biased_labeled') as foo1:\n",
    "        text+=foo1.read()\n",
    "    with open('statements_neutral_featured_labeled') as foo2:\n",
    "        text+=foo2.read()\n",
    "    foo.write(text)"
   ]
  }
 ],
 "metadata": {
  "kernelspec": {
   "display_name": "Python 3",
   "language": "python",
   "name": "python3"
  },
  "language_info": {
   "codemirror_mode": {
    "name": "ipython",
    "version": 3
   },
   "file_extension": ".py",
   "mimetype": "text/x-python",
   "name": "python",
   "nbconvert_exporter": "python",
   "pygments_lexer": "ipython3",
   "version": "3.7.7"
  }
 },
 "nbformat": 4,
 "nbformat_minor": 4
}

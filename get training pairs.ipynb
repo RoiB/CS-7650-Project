{
 "cells": [
  {
   "cell_type": "code",
   "execution_count": 82,
   "metadata": {},
   "outputs": [],
   "source": [
    "## check biased.word.train to confirm simplediff\n",
    "import simplediff\n",
    "import re"
   ]
  },
  {
   "cell_type": "code",
   "execution_count": 43,
   "metadata": {},
   "outputs": [],
   "source": [
    "pairs = []\n",
    "with open('../cs7650_project_data/biased.word.train') as f:\n",
    "    count = 0\n",
    "    for line in f:\n",
    "        items = line.split('\\t')\n",
    "        pairs.append((items[1],items[2]))\n",
    "        count+=1\n",
    "#         if count > 100:\n",
    "#             break"
   ]
  },
  {
   "cell_type": "code",
   "execution_count": 56,
   "metadata": {},
   "outputs": [
    {
     "name": "stdout",
     "output_type": "stream",
     "text": [
      "there is no evidence that crop circles are anything but man - made hoax ##es or works of art .\n",
      "there is little evidence that crop circles are anything but man - made hoax ##es or works of art .\n",
      "4\n",
      "[('=', ['there', 'is']), ('-', ['no']), ('+', ['little']), ('=', ['evidence', 'that', 'crop', 'circles', 'are', 'anything', 'but', 'man', '-', 'made', 'hoax', '##es', 'or', 'works', 'of', 'art', '.'])]\n"
     ]
    }
   ],
   "source": [
    "a,b = pairs[100]\n",
    "print(a)\n",
    "print(b)\n",
    "print(len(simplediff.string_diff(a,b)))\n",
    "print(simplediff.string_diff(a,b))\n",
    "simplediff.check_diff(a,b)"
   ]
  },
  {
   "cell_type": "code",
   "execution_count": 57,
   "metadata": {},
   "outputs": [
    {
     "name": "stdout",
     "output_type": "stream",
     "text": [
      "Total pairs: 53803\n",
      "53803\n"
     ]
    }
   ],
   "source": [
    "# we observe that delete one word -> ('=','-','=') and delete insert ('=','-','+','=')\n",
    "# validate either delete word or delete and insert\n",
    "\n",
    "print('Total pairs:',len(pairs))\n",
    "not_3_4 = 0\n",
    "\n",
    "for pair in pairs:\n",
    "    a,b = pair\n",
    "    diff = simplediff.string_diff(a,b)\n",
    "    if len(diff)!=3 or len(diff)!=4:\n",
    "        not_3_4 += 1\n",
    "print(not_3_4)"
   ]
  },
  {
   "cell_type": "code",
   "execution_count": 83,
   "metadata": {},
   "outputs": [],
   "source": [
    "pairs_full = []\n",
    "with open('../cs7650_project_data/biased.full') as f:\n",
    "    for line in f:\n",
    "        items = line.split('\\t')\n",
    "        pairs_full.append((re.sub(' ##','',items[1]),re.sub(' ##','',items[2])))"
   ]
  },
  {
   "cell_type": "code",
   "execution_count": 84,
   "metadata": {},
   "outputs": [
    {
     "name": "stdout",
     "output_type": "stream",
     "text": [
      "Total pairs in full set: 181496\n"
     ]
    }
   ],
   "source": [
    "print('Total pairs in full set:',len(pairs_full))"
   ]
  },
  {
   "cell_type": "code",
   "execution_count": 85,
   "metadata": {},
   "outputs": [
    {
     "name": "stdout",
     "output_type": "stream",
     "text": [
      "# of delete insert pairs: 52931\n"
     ]
    }
   ],
   "source": [
    "# check how many satisfy delete and insert\n",
    "idx_del_ins = []\n",
    "for i,pair in enumerate(pairs_full):\n",
    "    a,b = pair\n",
    "    diff = simplediff.string_diff(a,b)\n",
    "    if len(diff) is 4:\n",
    "        idx_del_ins.append(i)\n",
    "print('# of delete insert pairs:', len(idx_del_ins))"
   ]
  },
  {
   "cell_type": "code",
   "execution_count": 86,
   "metadata": {},
   "outputs": [
    {
     "name": "stdout",
     "output_type": "stream",
     "text": [
      "# of delete more than 1 and insert pairs: 28503\n"
     ]
    }
   ],
   "source": [
    "# filter out delete more than one word and insert\n",
    "idx_del2_ins = []\n",
    "for i,pair in enumerate(pairs_full):\n",
    "    a,b = pair\n",
    "    diff = simplediff.string_diff(a,b)\n",
    "    if len(diff) is 4:\n",
    "        _,delete,_,_ = diff\n",
    "        _,c = delete\n",
    "        if len(c) > 1:\n",
    "            idx_del2_ins.append(i)\n",
    "print('# of delete more than 1 and insert pairs:', len(idx_del2_ins))"
   ]
  },
  {
   "cell_type": "code",
   "execution_count": 87,
   "metadata": {},
   "outputs": [
    {
     "name": "stdout",
     "output_type": "stream",
     "text": [
      "the previous patriarch , john el hajj <del>passed away</del> <ins>died</ins> on christmas eve in 1898 ; monsenieur hoayek was requested to return to lebanon from a trip to rome .\n",
      "\n",
      "the tasmanian people <del>were nearly exterminated</del> <ins>became almost extinct</ins> early in australia ' s colonial history , and their languages went extinct before much was recorded .\n",
      "\n",
      "on <del>movie review</del> <ins>the film - critics</ins> aggregator rotten tomatoes , the film received a score of 82 % , based on 251 reviews , and a rating average of 7 . 4 / 10 , with the consensus that : \" it may evoke memories of classic summer blockbusters a little too eagerly for some , but super 8 has thrills , visual dazzle , and emotional depth to spare . \"\n",
      "\n",
      "unlike the previous films , a good day to die hard was the first die hard film to be a critical failure , receiving overwhelmingly negative reviews <del>for its</del> <ins>which cited</ins> implausible action sequences , cliched script , weak plot , moore ' s direction , and lack of characterization , although the special effects were praised .\n",
      "\n",
      "maurice lamarche ( born march 30 , 1958 ) is <del>an emmy award winning</del> <ins>a</ins> canadian voice actor and former stand up comedian .\n",
      "\n",
      "the white house is the official residence and principal workplace of the <del>president ( the biggest jackass on earth ) of</del> <ins>presidentof</ins> the united states of america .\n",
      "\n",
      "<ins>just</ins> before the album ' s u . s . release , she said <ins>:</ins> \" my inspiration came from what i have gone through in the past three years .\n",
      "\n",
      "pope boniface viii ( ; c . 1235 11 october 1303 ) , born benedetto caetani , or gaetani , was <del>the head of the catholic church</del> <ins>pope</ins> from 24 december 1294 to his death in 1303 . he organized the first roman catholic \" jubilee \" year to take place in rome and declared that both spiritual and temporal power were under the pope ' s jurisdiction , and that kings were subordinate to the power of the roman pontiff .\n",
      "\n",
      "the position was created in 1927 , and was appointed by the king , mostly as an advisor , until the end of the monarchy in 1973 . during the <del>communist era</del> <ins>1980s</ins> , the position was the head of government .\n",
      "\n",
      "in 1999 he founded the sendero group , in davis , ca , which employs many individuals who <del>happen to be</del> <ins>are</ins> blind or visually impaired .\n",
      "\n"
     ]
    }
   ],
   "source": [
    "for i in idx_del2_ins[10:20]:\n",
    "    a,b = pairs_full[i]\n",
    "    html_diff = simplediff.html_diff(a,b)\n",
    "    print(html_diff)\n",
    "    print()"
   ]
  },
  {
   "cell_type": "code",
   "execution_count": 88,
   "metadata": {},
   "outputs": [],
   "source": [
    "## TO DO ##\n",
    "## check accuracy using the new pairs\n",
    "with open('../cs7650_project_data/del2_ins_pairs','w') as f:\n",
    "    text = ''\n",
    "    for i in idx_del2_ins:\n",
    "        a,b = pairs_full[i]\n",
    "        text += a+\"\\t\"+\"biased\"+\"\\n\"\n",
    "        text += b+\"\\t\"+\"neutral\"+\"\\n\"\n",
    "    f.write(text)"
   ]
  },
  {
   "cell_type": "code",
   "execution_count": 90,
   "metadata": {},
   "outputs": [],
   "source": [
    "## TO DO ##\n",
    "## Build translation pairs for bias-neutral\n",
    "with open('../cs7650_project_data/bias-unbias.txt','w') as f:\n",
    "    text = ''\n",
    "    for i in idx_del2_ins:\n",
    "        a,b = pairs_full[i]\n",
    "        _,delete,insert,_=simplediff.string_diff(a,b)\n",
    "        text+= ' '.join(delete[1])+\"\\t\"+' '.join(insert[1])+\"\\n\"\n",
    "    f.write(text)"
   ]
  },
  {
   "cell_type": "code",
   "execution_count": null,
   "metadata": {},
   "outputs": [],
   "source": []
  }
 ],
 "metadata": {
  "kernelspec": {
   "display_name": "Python 3",
   "language": "python",
   "name": "python3"
  },
  "language_info": {
   "codemirror_mode": {
    "name": "ipython",
    "version": 3
   },
   "file_extension": ".py",
   "mimetype": "text/x-python",
   "name": "python",
   "nbconvert_exporter": "python",
   "pygments_lexer": "ipython3",
   "version": "3.7.7"
  }
 },
 "nbformat": 4,
 "nbformat_minor": 4
}

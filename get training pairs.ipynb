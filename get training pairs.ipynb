{
 "cells": [
  {
   "cell_type": "code",
   "execution_count": 82,
   "metadata": {},
   "outputs": [],
   "source": [
    "## check biased.word.train to confirm simplediff\n",
    "import simplediff\n",
    "import re"
   ]
  },
  {
   "cell_type": "code",
   "execution_count": 43,
   "metadata": {},
   "outputs": [],
   "source": [
    "pairs = []\n",
    "with open('../cs7650_project_data/biased.word.train') as f:\n",
    "    count = 0\n",
    "    for line in f:\n",
    "        items = line.split('\\t')\n",
    "        pairs.append((items[1],items[2]))\n",
    "        count+=1\n",
    "#         if count > 100:\n",
    "#             break"
   ]
  },
  {
   "cell_type": "code",
   "execution_count": 56,
   "metadata": {},
   "outputs": [
    {
     "name": "stdout",
     "output_type": "stream",
     "text": [
      "there is no evidence that crop circles are anything but man - made hoax ##es or works of art .\n",
      "there is little evidence that crop circles are anything but man - made hoax ##es or works of art .\n",
      "4\n",
      "[('=', ['there', 'is']), ('-', ['no']), ('+', ['little']), ('=', ['evidence', 'that', 'crop', 'circles', 'are', 'anything', 'but', 'man', '-', 'made', 'hoax', '##es', 'or', 'works', 'of', 'art', '.'])]\n"
     ]
    }
   ],
   "source": [
    "a,b = pairs[100]\n",
    "print(a)\n",
    "print(b)\n",
    "print(len(simplediff.string_diff(a,b)))\n",
    "print(simplediff.string_diff(a,b))\n",
    "simplediff.check_diff(a,b)"
   ]
  },
  {
   "cell_type": "code",
   "execution_count": 57,
   "metadata": {},
   "outputs": [
    {
     "name": "stdout",
     "output_type": "stream",
     "text": [
      "Total pairs: 53803\n",
      "53803\n"
     ]
    }
   ],
   "source": [
    "# we observe that delete one word -> ('=','-','=') and delete insert ('=','-','+','=')\n",
    "# validate either delete word or delete and insert\n",
    "\n",
    "print('Total pairs:',len(pairs))\n",
    "not_3_4 = 0\n",
    "\n",
    "for pair in pairs:\n",
    "    a,b = pair\n",
    "    diff = simplediff.string_diff(a,b)\n",
    "    if len(diff)!=3 or len(diff)!=4:\n",
    "        not_3_4 += 1\n",
    "print(not_3_4)"
   ]
  },
  {
   "cell_type": "code",
   "execution_count": 52,
   "metadata": {},
   "outputs": [],
   "source": [
    "pairs_full = []\n",
    "with open('../cs7650_project_data/biased.full') as f:\n",
    "    for line in f:\n",
    "        items = line.split('\\t')\n",
    "        pairs_full.append((re.sub(' ##','',items[1]),re.sub(' ##','',items[2])))"
   ]
  },
  {
   "cell_type": "code",
   "execution_count": 53,
   "metadata": {},
   "outputs": [
    {
     "name": "stdout",
     "output_type": "stream",
     "text": [
      "Total pairs in full set: 181496\n"
     ]
    }
   ],
   "source": [
    "print('Total pairs in full set:',len(pairs_full))"
   ]
  },
  {
   "cell_type": "code",
   "execution_count": 60,
   "metadata": {},
   "outputs": [
    {
     "name": "stdout",
     "output_type": "stream",
     "text": [
      "# of delete insert pairs: 52308\n"
     ]
    }
   ],
   "source": [
    "# check how many satisfy delete and insert\n",
    "idx_del_ins = []\n",
    "for i,pair in enumerate(pairs_full):\n",
    "    a,b = pair\n",
    "    diff = simplediff.string_diff(a,b)\n",
    "    if len(diff) is 4:\n",
    "        idx_del_ins.append(i)\n",
    "print('# of delete insert pairs:', len(idx_del_ins))"
   ]
  },
  {
   "cell_type": "code",
   "execution_count": 73,
   "metadata": {},
   "outputs": [
    {
     "name": "stdout",
     "output_type": "stream",
     "text": [
      "# of delete more than 1 and insert pairs: 33851\n"
     ]
    }
   ],
   "source": [
    "# filter out delete more than one word and insert\n",
    "idx_del2_ins = []\n",
    "for i,pair in enumerate(pairs_full):\n",
    "    a,b = pair\n",
    "    diff = simplediff.string_diff(a,b)\n",
    "    if len(diff) is 4:\n",
    "        _,delete,_,_ = diff\n",
    "        _,c = delete\n",
    "        if len(c) > 1:\n",
    "            idx_del2_ins.append(i)\n",
    "print('# of delete more than 1 and insert pairs:', len(idx_del2_ins))"
   ]
  },
  {
   "cell_type": "code",
   "execution_count": 74,
   "metadata": {},
   "outputs": [
    {
     "name": "stdout",
     "output_type": "stream",
     "text": [
      "victoria wood ' s mid life christmas is a comedy sketch show written by and starring <del>come ##die ##nne</del> <ins>comedian</ins> victoria wood , broadcast on christmas eve 2009 .\n",
      "\n",
      "opponents respond the bn ##p ' s re ##bu ##ttal by <del>pointing out</del> <ins>stating</ins> that the offences stated are substantially more serious , in particular more violent , than the offences typically committed by the general population of minor criminals , and that the people named are \" leading members \" of the bn ##p .\n",
      "\n",
      "although he was recognized as a quaker , he was <del>not a very good one ,</del> <ins>known to break the rules by</ins> dressing in a long red coat and occasionally drinking to excess .\n",
      "\n",
      "the previous patriarch , john el ha ##j ##j <del>passed away</del> <ins>died</ins> on christmas eve in 1898 ; mons ##eni ##eur ho ##ay ##ek was requested to return to lebanon from a trip to rome .\n",
      "\n",
      "the red - headed <del>come ##die ##nne</del> <ins>comedian</ins> made her screen debut as cousin betty in loose ankles ( 1930 ) .\n",
      "\n",
      "the tasmanian people <del>were nearly ex ##ter ##minated</del> <ins>became almost extinct</ins> early in australia ' s colonial history , and their languages went extinct before much was recorded .\n",
      "\n",
      "on <del>movie review</del> <ins>the film - critics</ins> aggregator rotten tomatoes , the film received a score of 82 % , based on 251 reviews , and a rating average of 7 . 4 / 10 , with the consensus that : \" it may ev ##oke memories of classic summer blockbuster ##s a little too eagerly for some , but super 8 has thrill ##s , visual da ##zzle , and emotional depth to spare . \"\n",
      "\n",
      "unlike the previous films , a good day to die hard was the first die hard film to be a critical failure , receiving overwhelmingly negative reviews <del>for its</del> <ins>which cited</ins> imp ##laus ##ible action sequences , cl ##iche ##d script , weak plot , moore ' s direction , and lack of characterization , although the special effects were praised .\n",
      "\n",
      "maurice lamar ##che ( born march 30 , 1958 ) is <del>an emmy award winning</del> <ins>a</ins> canadian voice actor and former stand up comedian .\n",
      "\n",
      "the white house is the official residence and principal workplace of the president <del>( the biggest jack ##ass on earth ) of</del> <ins>##of</ins> the united states of america .\n",
      "\n"
     ]
    }
   ],
   "source": [
    "for i in idx_del2_ins[10:20]:\n",
    "    a,b = pairs_full[i]\n",
    "    html_diff = simplediff.html_diff(a,b)\n",
    "    print(html_diff)\n",
    "    print()"
   ]
  },
  {
   "cell_type": "code",
   "execution_count": 75,
   "metadata": {},
   "outputs": [],
   "source": [
    "## TO DO ##\n",
    "## check accuracy using the new pairs\n",
    "with open('../cs7650_project_data/del2_ins_pairs','w') as f:\n",
    "    text = ''\n",
    "    for i in idx_del2_ins:\n",
    "        a,b = pairs_full[i]\n",
    "        text += a+\"\\t\"+\"biased\"+\"\\n\"\n",
    "        text += b+\"\\t\"+\"neutral\"+\"\\n\"\n",
    "    f.write(text)"
   ]
  },
  {
   "cell_type": "code",
   "execution_count": 78,
   "metadata": {},
   "outputs": [],
   "source": [
    "import re"
   ]
  },
  {
   "cell_type": "code",
   "execution_count": 80,
   "metadata": {},
   "outputs": [
    {
     "name": "stdout",
     "output_type": "stream",
     "text": [
      "during the campaign , controversy erupted over alleged differences between pali ##n ' s positions as a gubernatorial candidate and her position as a vice - presidential candidate .\n",
      "during the campaign , controversy erupted over alleged differences between palin ' s positions as a gubernatorial candidate and her position as a vice - presidential candidate .\n",
      "\n",
      "nic ##aea was con ##vo ##ked by the emperor constantine in maya ##ug ##ust 325 to address the aria ##n heresy that christ is of a distinct substance from the father .\n",
      "nicaea was convoked by the emperor constantine in mayaugust 325 to address the arian heresy that christ is of a distinct substance from the father .\n",
      "\n",
      "it was rather unfortunate that he ve ##hem ##ently opposed the bud ##ding indian scientist sub ##rah ##man ##yan chandra ##se ##khar about his theory on the maximum mass of stars known as white dwarfs , the mass above which the star collapses and becomes a neutron star , qu ##ark star or black hole .\n",
      "it was rather unfortunate that he vehemently opposed the budding indian scientist subrahmanyan chandrasekhar about his theory on the maximum mass of stars known as white dwarfs , the mass above which the star collapses and becomes a neutron star , quark star or black hole .\n",
      "\n",
      "dennis the menace is an american animated series produced by di ##c entertainment , based on the classic comic strip by hank ke ##tch ##am .\n",
      "dennis the menace is an american animated series produced by dic entertainment , based on the classic comic strip by hank ketcham .\n",
      "\n",
      "today , on large farms , motorcycles , dogs or men on horseback may herd sheep .\n",
      "today , on large farms , motorcycles , dogs or men on horseback may herd sheep .\n",
      "\n",
      "the fifteenth united states army was the last field army to see service in northwest europe during world war ii and was the final command of the legendary gen . george s . patton .\n",
      "the fifteenth united states army was the last field army to see service in northwest europe during world war ii and was the final command of the legendary gen . george s . patton .\n",
      "\n",
      "a massive toxic spill occurs at gold king mine near duran ##go , colorado , con ##tam ##inating a river in southern colorado and threatening other waterways .\n",
      "a massive toxic spill occurs at gold king mine near durango , colorado , contaminating a river in southern colorado and threatening other waterways .\n",
      "\n",
      "possession of the number one ticket is largely symbolic , but prestigious .\n",
      "possession of the number one ticket is largely symbolic , but prestigious .\n",
      "\n",
      "domestic transport infrastructure is one of the world ' s most efficient and so ##phi ##sic ##ated , and includes the heavy rail passenger mass rapid transit ( mr ##t ) system , the north - east line , an auto ##pi ##lot extension of the mr ##t , the light rapid transit ( l ##rt ) system , an extensive expressway and road system and a nationwide system of taxis and buses .\n",
      "domestic transport infrastructure is one of the world ' s most efficient and sophisicated , and includes the heavy rail passenger mass rapid transit ( mrt ) system , the north - east line , an autopilot extension of the mrt , the light rapid transit ( lrt ) system , an extensive expressway and road system and a nationwide system of taxis and buses .\n",
      "\n",
      "jazz ensemble provides a venue where the more musically talented pr students can play jazz and blues music .\n",
      "jazz ensemble provides a venue where the more musically talented pr students can play jazz and blues music .\n",
      "\n"
     ]
    }
   ],
   "source": [
    "## deal with ' ##'\n",
    "\n",
    "for a,b in pairs_full[:10]:\n",
    "    print(a)\n",
    "    print(re.sub(' ##','',a))\n",
    "    print()"
   ]
  },
  {
   "cell_type": "code",
   "execution_count": 81,
   "metadata": {},
   "outputs": [
    {
     "name": "stdout",
     "output_type": "stream",
     "text": [
      "during the campaign , controversy erupted over alleged differences between pali ##n ' s positions as a gubernatorial candidate and her position as a vice - presidential candidate .\n",
      "during the campaign , controversy erupted over alleged differences between palin ' s positions as a gubernatorial candidate and her position as a vice - presidential candidate .\n",
      "\n",
      "the fifteenth united states army was the last field army to see service in northwest europe during world war ii and was the final command of the legendary gen . george s . patton .\n",
      "the fifteenth united states army was the last field army to see service in northwest europe during world war ii and was the final command of the legendary gen . george s . patton .\n",
      "\n",
      "jazz ensemble provides a venue where the more musically talented pr students can play jazz and blues music .\n",
      "jazz ensemble provides a venue where the more musically talented pr students can play jazz and blues music .\n",
      "\n",
      "mai ##mo ##una n ' dia ##ye , sometimes called mo ##una n ' dia ##ye is a senegal ##ese actress and come ##die ##nne , who acts mainly in bu ##kin ##abe films .\n",
      "maimouna n ' diaye , sometimes called mouna n ' diaye is a senegalese actress and comedienne , who acts mainly in bukinabe films .\n",
      "\n",
      "the shield was a dominant force in six - man tag matches , at one point having an undefeated streak from december 2012 to may 2013 during which they claimed the scalp ##s of teams containing the likes of the undertaker , kane , daniel bryan , ry ##back , big show , randy orton , shea ##mus , chris jericho , and john ce ##na .\n",
      "the shield was a dominant force in six - man tag matches , at one point having an undefeated streak from december 2012 to may 2013 during which they claimed the scalps of teams containing the likes of the undertaker , kane , daniel bryan , ryback , big show , randy orton , sheamus , chris jericho , and john cena .\n",
      "\n",
      "the 2004 champ car world series season was the team ' s strongest year with new sponsors american medical response and yo ##ke tv .\n",
      "the 2004 champ car world series season was the team ' s strongest year with new sponsors american medical response and yoke tv .\n",
      "\n",
      "week 6 - more work ##cho ##ices controversy , a dod ##gy liberal campaign leaf ##let and conflicting polls\n",
      "week 6 - more workchoices controversy , a dodgy liberal campaign leaflet and conflicting polls\n",
      "\n",
      "four mas served a german request for black sea reinforcement in their intended attack of se ##vas ##top ##ol in june , 1942 . the mas squadron came under intense air attack from soviet fighter - bombers and torpedo boats but performed ad ##mir ##ably in the role .\n",
      "four mas served a german request for black sea reinforcement in their intended attack of sevastopol in june , 1942 . the mas squadron came under intense air attack from soviet fighter - bombers and torpedo boats but performed admirably in the role .\n",
      "\n",
      "wilson ' s sister , the late mary hirsch ##feld , was also a career journalist employed by the cleveland plain dealer from approximately 1929 to 1990 , working for the paper to the age of 81 . mary passed away in 1991 . while she covered many reporting and feature writing assignments mary will probably be best remembered for her \" mary hears \" society column and specialty in covering latin american affairs .\n",
      "wilson ' s sister , the late mary hirschfeld , was also a career journalist employed by the cleveland plain dealer from approximately 1929 to 1990 , working for the paper to the age of 81 . mary passed away in 1991 . while she covered many reporting and feature writing assignments mary will probably be best remembered for her \" mary hears \" society column and specialty in covering latin american affairs .\n",
      "\n",
      "waking the tiger : healing trauma is a self - help book by american therapist peter a . levine and ann frederick published in 1997 . it presents a so ##matic experiencing approach to help people who are struggling with psychological trauma .\n",
      "waking the tiger : healing trauma is a self - help book by american therapist peter a . levine and ann frederick published in 1997 . it presents a somatic experiencing approach to help people who are struggling with psychological trauma .\n",
      "\n"
     ]
    }
   ],
   "source": [
    "for i in idx_del2_ins[:10]:\n",
    "    a,b = pairs_full[i]\n",
    "    print(a)\n",
    "    print(re.sub(' ##','',a))\n",
    "    print()"
   ]
  },
  {
   "cell_type": "code",
   "execution_count": null,
   "metadata": {},
   "outputs": [],
   "source": []
  }
 ],
 "metadata": {
  "kernelspec": {
   "display_name": "Python 3",
   "language": "python",
   "name": "python3"
  },
  "language_info": {
   "codemirror_mode": {
    "name": "ipython",
    "version": 3
   },
   "file_extension": ".py",
   "mimetype": "text/x-python",
   "name": "python",
   "nbconvert_exporter": "python",
   "pygments_lexer": "ipython3",
   "version": "3.7.7"
  }
 },
 "nbformat": 4,
 "nbformat_minor": 4
}

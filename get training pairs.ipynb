{
 "cells": [
  {
   "cell_type": "code",
   "execution_count": 14,
   "metadata": {},
   "outputs": [],
   "source": [
    "## check biased.word.train to confirm simplediff\n",
    "import simplediff"
   ]
  },
  {
   "cell_type": "code",
   "execution_count": 43,
   "metadata": {},
   "outputs": [],
   "source": [
    "pairs = []\n",
    "with open('../cs7650_project_data/biased.word.train') as f:\n",
    "    count = 0\n",
    "    for line in f:\n",
    "        items = line.split('\\t')\n",
    "        pairs.append((items[1],items[2]))\n",
    "        count+=1\n",
    "#         if count > 100:\n",
    "#             break"
   ]
  },
  {
   "cell_type": "code",
   "execution_count": 56,
   "metadata": {},
   "outputs": [
    {
     "name": "stdout",
     "output_type": "stream",
     "text": [
      "there is no evidence that crop circles are anything but man - made hoax ##es or works of art .\n",
      "there is little evidence that crop circles are anything but man - made hoax ##es or works of art .\n",
      "4\n",
      "[('=', ['there', 'is']), ('-', ['no']), ('+', ['little']), ('=', ['evidence', 'that', 'crop', 'circles', 'are', 'anything', 'but', 'man', '-', 'made', 'hoax', '##es', 'or', 'works', 'of', 'art', '.'])]\n"
     ]
    }
   ],
   "source": [
    "a,b = pairs[100]\n",
    "print(a)\n",
    "print(b)\n",
    "print(len(simplediff.string_diff(a,b)))\n",
    "print(simplediff.string_diff(a,b))\n",
    "simplediff.check_diff(a,b)"
   ]
  },
  {
   "cell_type": "code",
   "execution_count": 57,
   "metadata": {},
   "outputs": [
    {
     "name": "stdout",
     "output_type": "stream",
     "text": [
      "Total pairs: 53803\n",
      "53803\n"
     ]
    }
   ],
   "source": [
    "# we observe that delete one word -> ('=','-','=') and delete insert ('=','-','+','=')\n",
    "# validate either delete word or delete and insert\n",
    "\n",
    "print('Total pairs:',len(pairs))\n",
    "not_3_4 = 0\n",
    "\n",
    "for pair in pairs:\n",
    "    a,b = pair\n",
    "    diff = simplediff.string_diff(a,b)\n",
    "    if len(diff)!=3 or len(diff)!=4:\n",
    "        not_3_4 += 1\n",
    "print(not_3_4)"
   ]
  },
  {
   "cell_type": "code",
   "execution_count": 52,
   "metadata": {},
   "outputs": [],
   "source": [
    "pairs_full = []\n",
    "with open('../cs7650_project_data/biased.full') as f:\n",
    "    for line in f:\n",
    "        items = line.split('\\t')\n",
    "        pairs_full.append((items[1],items[2]))"
   ]
  },
  {
   "cell_type": "code",
   "execution_count": 53,
   "metadata": {},
   "outputs": [
    {
     "name": "stdout",
     "output_type": "stream",
     "text": [
      "Total pairs in full set: 181496\n"
     ]
    }
   ],
   "source": [
    "print('Total pairs in full set:',len(pairs_full))"
   ]
  },
  {
   "cell_type": "code",
   "execution_count": 60,
   "metadata": {},
   "outputs": [
    {
     "name": "stdout",
     "output_type": "stream",
     "text": [
      "# of delete insert pairs: 52308\n"
     ]
    }
   ],
   "source": [
    "# check how many satisfy delete and insert\n",
    "idx_del_ins = []\n",
    "for i,pair in enumerate(pairs_full):\n",
    "    a,b = pair\n",
    "    diff = simplediff.string_diff(a,b)\n",
    "    if len(diff) is 4:\n",
    "        idx_del_ins.append(i)\n",
    "print('# of delete insert pairs:', len(idx_del_ins))"
   ]
  },
  {
   "cell_type": "code",
   "execution_count": 67,
   "metadata": {},
   "outputs": [
    {
     "name": "stdout",
     "output_type": "stream",
     "text": [
      "# of delete more than 1 and insert pairs: 33851\n"
     ]
    }
   ],
   "source": [
    "# filter out delete more than one word and insert\n",
    "idx_del2_ins = []\n",
    "for i,pair in enumerate(pairs_full):\n",
    "    a,b = pair\n",
    "    diff = simplediff.string_diff(a,b)\n",
    "    if len(diff) is 4:\n",
    "        _,delete,_,_ = diff\n",
    "        _,c = delete\n",
    "        if len(c) > 1:\n",
    "            idx_del2_ins.append(i)\n",
    "print('# of delete more than 1 and insert pairs:', len(idx_del2_ins))"
   ]
  },
  {
   "cell_type": "code",
   "execution_count": 70,
   "metadata": {},
   "outputs": [
    {
     "name": "stdout",
     "output_type": "stream",
     "text": [
      "during the campaign , <del>controversy erupted over</del> <ins>some pointed out</ins> alleged differences between pali ##n ' s positions as a gubernatorial candidate and her position as a vice - presidential candidate .\n",
      "\n",
      "the fifteenth united states army was the last field army to see service in northwest europe during world war ii and was the final command of <del>the legendary gen .</del> <ins>general</ins> george s . patton .\n",
      "\n",
      "jazz ensemble provides a venue where <del>the more musically talented pr</del> <ins>well - performing</ins> students can play jazz and blues music .\n",
      "\n",
      "mai ##mo ##una n ' dia ##ye , sometimes called mo ##una n ' dia ##ye is a senegal ##ese actress and <del>come ##die ##nne</del> <ins>comedian</ins> , who acts mainly in bu ##kin ##abe films .\n",
      "\n",
      "the shield was a dominant force in six - man tag matches , at one point having an undefeated streak from december 2012 to may 2013 during which they <del>claimed the scalp ##s of</del> <ins>defeated</ins> teams containing the likes of the undertaker , kane , daniel bryan , ry ##back , big show , randy orton , shea ##mus , chris jericho , and john ce ##na .\n",
      "\n",
      "the 2004 champ car world series season was <del>the team ' s strongest year</del> <ins>an improved season</ins> with new sponsors american medical response and yo ##ke tv .\n",
      "\n",
      "week 6 - more work ##cho ##ices controversy , a <del>dod ##gy liberal campaign leaf ##let</del> <ins>pamphlet scandal</ins> and conflicting polls\n",
      "\n",
      "four mas served a german request for black sea reinforcement in their intended attack of se ##vas ##top ##ol in june , 1942 . the mas squadron came under intense air attack from soviet fighter - bombers and torpedo boats but performed <del>ad ##mir ##ably</del> <ins>well</ins> in the role .\n",
      "\n",
      "wilson ' s sister , the late mary hirsch ##feld , was also a career journalist employed by the cleveland plain dealer from approximately 1929 to 1990 , working for the paper to the age of 81 . mary <del>passed away</del> <ins>died</ins> in 1991 . while she covered many reporting and feature writing assignments mary will probably be best remembered for her \" mary hears \" society column and specialty in covering latin american affairs .\n",
      "\n",
      "waking the tiger : healing trauma is a self - help book by american therapist peter a . levine and ann frederick published in 1997 . it presents a so ##matic experiencing approach <del>to help</del> <ins>which it says helps</ins> people who are struggling with psychological trauma .\n",
      "\n"
     ]
    }
   ],
   "source": [
    "for i in idx_del2_ins[:10]:\n",
    "    a,b = pairs_full[i]\n",
    "    html_diff = simplediff.html_diff(a,b)\n",
    "    print(html_diff)\n",
    "    print()"
   ]
  },
  {
   "cell_type": "code",
   "execution_count": null,
   "metadata": {},
   "outputs": [],
   "source": []
  }
 ],
 "metadata": {
  "kernelspec": {
   "display_name": "Python 3",
   "language": "python",
   "name": "python3"
  },
  "language_info": {
   "codemirror_mode": {
    "name": "ipython",
    "version": 3
   },
   "file_extension": ".py",
   "mimetype": "text/x-python",
   "name": "python",
   "nbconvert_exporter": "python",
   "pygments_lexer": "ipython3",
   "version": "3.7.7"
  }
 },
 "nbformat": 4,
 "nbformat_minor": 4
}

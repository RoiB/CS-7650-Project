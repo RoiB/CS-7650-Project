{
 "cells": [
  {
   "cell_type": "code",
   "execution_count": 14,
   "metadata": {},
   "outputs": [],
   "source": [
    "## check biased.word.train to confirm simplediff\n",
    "import simplediff"
   ]
  },
  {
   "cell_type": "code",
   "execution_count": 43,
   "metadata": {},
   "outputs": [],
   "source": [
    "pairs = []\n",
    "with open('../cs7650_project_data/biased.word.train') as f:\n",
    "    count = 0\n",
    "    for line in f:\n",
    "        items = line.split('\\t')\n",
    "        pairs.append((items[1],items[2]))\n",
    "        count+=1\n",
    "#         if count > 100:\n",
    "#             break"
   ]
  },
  {
   "cell_type": "code",
   "execution_count": 56,
   "metadata": {},
   "outputs": [
    {
     "name": "stdout",
     "output_type": "stream",
     "text": [
      "there is no evidence that crop circles are anything but man - made hoax ##es or works of art .\n",
      "there is little evidence that crop circles are anything but man - made hoax ##es or works of art .\n",
      "4\n",
      "[('=', ['there', 'is']), ('-', ['no']), ('+', ['little']), ('=', ['evidence', 'that', 'crop', 'circles', 'are', 'anything', 'but', 'man', '-', 'made', 'hoax', '##es', 'or', 'works', 'of', 'art', '.'])]\n"
     ]
    }
   ],
   "source": [
    "a,b = pairs[100]\n",
    "print(a)\n",
    "print(b)\n",
    "print(len(simplediff.string_diff(a,b)))\n",
    "print(simplediff.string_diff(a,b))\n",
    "simplediff.check_diff(a,b)"
   ]
  },
  {
   "cell_type": "code",
   "execution_count": 57,
   "metadata": {},
   "outputs": [
    {
     "name": "stdout",
     "output_type": "stream",
     "text": [
      "Total pairs: 53803\n",
      "53803\n"
     ]
    }
   ],
   "source": [
    "# we observe that delete one word -> ('=','-','=') and delete insert ('=','-','+','=')\n",
    "# validate either delete word or delete and insert\n",
    "\n",
    "print('Total pairs:',len(pairs))\n",
    "not_3_4 = 0\n",
    "\n",
    "for pair in pairs:\n",
    "    a,b = pair\n",
    "    diff = simplediff.string_diff(a,b)\n",
    "    if len(diff)!=3 or len(diff)!=4:\n",
    "        not_3_4 += 1\n",
    "print(not_3_4)"
   ]
  },
  {
   "cell_type": "code",
   "execution_count": 52,
   "metadata": {},
   "outputs": [],
   "source": [
    "pairs_full = []\n",
    "with open('../cs7650_project_data/biased.full') as f:\n",
    "    for line in f:\n",
    "        items = line.split('\\t')\n",
    "        pairs_full.append((items[1],items[2]))"
   ]
  },
  {
   "cell_type": "code",
   "execution_count": 53,
   "metadata": {},
   "outputs": [
    {
     "name": "stdout",
     "output_type": "stream",
     "text": [
      "Total pairs in full set: 181496\n"
     ]
    }
   ],
   "source": [
    "print('Total pairs in full set:',len(pairs_full))"
   ]
  },
  {
   "cell_type": "code",
   "execution_count": 60,
   "metadata": {},
   "outputs": [
    {
     "name": "stdout",
     "output_type": "stream",
     "text": [
      "# of delete insert pairs: 52308\n"
     ]
    }
   ],
   "source": [
    "# check how many satisfy delete and insert\n",
    "idx_del_ins = []\n",
    "for i,pair in enumerate(pairs_full):\n",
    "    a,b = pair\n",
    "    diff = simplediff.string_diff(a,b)\n",
    "    if len(diff) is 4:\n",
    "        idx_del_ins.append(i)\n",
    "print('# of delete insert pairs:', len(idx_del_ins))"
   ]
  },
  {
   "cell_type": "code",
   "execution_count": 73,
   "metadata": {},
   "outputs": [
    {
     "name": "stdout",
     "output_type": "stream",
     "text": [
      "# of delete more than 1 and insert pairs: 33851\n"
     ]
    }
   ],
   "source": [
    "# filter out delete more than one word and insert\n",
    "idx_del2_ins = []\n",
    "for i,pair in enumerate(pairs_full):\n",
    "    a,b = pair\n",
    "    diff = simplediff.string_diff(a,b)\n",
    "    if len(diff) is 4:\n",
    "        _,delete,_,_ = diff\n",
    "        _,c = delete\n",
    "        if len(c) > 1:\n",
    "            idx_del2_ins.append(i)\n",
    "print('# of delete more than 1 and insert pairs:', len(idx_del2_ins))"
   ]
  },
  {
   "cell_type": "code",
   "execution_count": 74,
   "metadata": {},
   "outputs": [
    {
     "name": "stdout",
     "output_type": "stream",
     "text": [
      "victoria wood ' s mid life christmas is a comedy sketch show written by and starring <del>come ##die ##nne</del> <ins>comedian</ins> victoria wood , broadcast on christmas eve 2009 .\n",
      "\n",
      "opponents respond the bn ##p ' s re ##bu ##ttal by <del>pointing out</del> <ins>stating</ins> that the offences stated are substantially more serious , in particular more violent , than the offences typically committed by the general population of minor criminals , and that the people named are \" leading members \" of the bn ##p .\n",
      "\n",
      "although he was recognized as a quaker , he was <del>not a very good one ,</del> <ins>known to break the rules by</ins> dressing in a long red coat and occasionally drinking to excess .\n",
      "\n",
      "the previous patriarch , john el ha ##j ##j <del>passed away</del> <ins>died</ins> on christmas eve in 1898 ; mons ##eni ##eur ho ##ay ##ek was requested to return to lebanon from a trip to rome .\n",
      "\n",
      "the red - headed <del>come ##die ##nne</del> <ins>comedian</ins> made her screen debut as cousin betty in loose ankles ( 1930 ) .\n",
      "\n",
      "the tasmanian people <del>were nearly ex ##ter ##minated</del> <ins>became almost extinct</ins> early in australia ' s colonial history , and their languages went extinct before much was recorded .\n",
      "\n",
      "on <del>movie review</del> <ins>the film - critics</ins> aggregator rotten tomatoes , the film received a score of 82 % , based on 251 reviews , and a rating average of 7 . 4 / 10 , with the consensus that : \" it may ev ##oke memories of classic summer blockbuster ##s a little too eagerly for some , but super 8 has thrill ##s , visual da ##zzle , and emotional depth to spare . \"\n",
      "\n",
      "unlike the previous films , a good day to die hard was the first die hard film to be a critical failure , receiving overwhelmingly negative reviews <del>for its</del> <ins>which cited</ins> imp ##laus ##ible action sequences , cl ##iche ##d script , weak plot , moore ' s direction , and lack of characterization , although the special effects were praised .\n",
      "\n",
      "maurice lamar ##che ( born march 30 , 1958 ) is <del>an emmy award winning</del> <ins>a</ins> canadian voice actor and former stand up comedian .\n",
      "\n",
      "the white house is the official residence and principal workplace of the president <del>( the biggest jack ##ass on earth ) of</del> <ins>##of</ins> the united states of america .\n",
      "\n"
     ]
    }
   ],
   "source": [
    "for i in idx_del2_ins[10:20]:\n",
    "    a,b = pairs_full[i]\n",
    "    html_diff = simplediff.html_diff(a,b)\n",
    "    print(html_diff)\n",
    "    print()"
   ]
  },
  {
   "cell_type": "code",
   "execution_count": null,
   "metadata": {},
   "outputs": [],
   "source": [
    "## TO DO ##\n",
    "## check accuracy using the new pairs\n",
    "with open('../cs7650_project_data/del_more_than_1_insert_pairs','w') as f:\n",
    "    text = ''\n",
    "    for i in idx_del2_ins:\n",
    "        a,b = pairs_full[i]\n",
    "        text += a+\"\\t\"+\"biased\"+\"\\n\"\n",
    "        text += b+\"\\t\"+\"neutral\"+\"\\n\""
   ]
  }
 ],
 "metadata": {
  "kernelspec": {
   "display_name": "Python 3",
   "language": "python",
   "name": "python3"
  },
  "language_info": {
   "codemirror_mode": {
    "name": "ipython",
    "version": 3
   },
   "file_extension": ".py",
   "mimetype": "text/x-python",
   "name": "python",
   "nbconvert_exporter": "python",
   "pygments_lexer": "ipython3",
   "version": "3.7.7"
  }
 },
 "nbformat": 4,
 "nbformat_minor": 4
}
